{
 "cells": [
  {
   "cell_type": "markdown",
   "id": "145af9b4",
   "metadata": {},
   "source": [
    "### Gradient Descent Doubts ? "
   ]
  },
  {
   "cell_type": "markdown",
   "id": "1d62358f",
   "metadata": {},
   "source": [
    "#### Models from SKLearn"
   ]
  },
  {
   "cell_type": "code",
   "execution_count": 1,
   "id": "f4c74cd8",
   "metadata": {},
   "outputs": [],
   "source": [
    "import matplotlib.pyplot as plt\n",
    "import numpy as np"
   ]
  },
  {
   "cell_type": "code",
   "execution_count": 24,
   "id": "ae1b4cf0",
   "metadata": {},
   "outputs": [],
   "source": [
    "X = 2 * np.random.rand(100, 1)\n",
    "y = 4 + 3 * X + np.random.randn(100, 1)"
   ]
  },
  {
   "cell_type": "code",
   "execution_count": 25,
   "id": "583fb1e6",
   "metadata": {},
   "outputs": [
    {
     "data": {
      "image/png": "[encoded data removed]",
      "text/plain": [
       "<Figure size 432x288 with 1 Axes>"
      ]
     },
     "metadata": {
      "needs_background": "light"
     },
     "output_type": "display_data"
    }
   ],
   "source": [
    "plt.scatter(X, y)\n",
    "plt.show()"
   ]
  },
  {
   "cell_type": "markdown",
   "id": "1b9032f4",
   "metadata": {},
   "source": [
    "    np.c_[a, b] # col stack\n",
    "    np.r_[a, b] # row stack"
   ]
  },
  {
   "cell_type": "code",
   "execution_count": 75,
   "id": "73c014f9",
   "metadata": {},
   "outputs": [],
   "source": [
    "\n",
    "X_b = np.column_stack([np.ones((100, 1)), X])\n",
    "m = X_b.shape[0]"
   ]
  },
  {
   "cell_type": "code",
   "execution_count": 76,
   "id": "7e1fba9f",
   "metadata": {},
   "outputs": [],
   "source": [
    "theta = np.random.randn(2, 1)"
   ]
  },
  {
   "cell_type": "code",
   "execution_count": 77,
   "id": "1a8021cd",
   "metadata": {},
   "outputs": [],
   "source": [
    "def predict(X):\n",
    "    return X.dot(theta)"
   ]
  },
  {
   "cell_type": "code",
   "execution_count": 78,
   "id": "55f2e097",
   "metadata": {},
   "outputs": [],
   "source": [
    "y_hat = predict(X_b)"
   ]
  },
  {
   "cell_type": "code",
   "execution_count": 79,
   "id": "c6883b7b",
   "metadata": {},
   "outputs": [
    {
     "data": {
      "text/plain": [
       "47.65958247511715"
      ]
     },
     "execution_count": 79,
     "metadata": {},
     "output_type": "execute_result"
    }
   ],
   "source": [
    "from sklearn.metrics import mean_squared_error as mse\n",
    "mse(y, y_hat)"
   ]
  },
  {
   "cell_type": "code",
   "execution_count": 80,
   "id": "33894c52",
   "metadata": {},
   "outputs": [
    {
     "data": {
      "text/plain": [
       "array([[-0.40391694],\n",
       "       [ 0.80166758]])"
      ]
     },
     "execution_count": 80,
     "metadata": {},
     "output_type": "execute_result"
    }
   ],
   "source": [
    "theta"
   ]
  },
  {
   "cell_type": "code",
   "execution_count": 85,
   "id": "c36daa01",
   "metadata": {},
   "outputs": [],
   "source": [
    "eta = 0.10\n",
    "n_iterations = 1000\n",
    "gradients = 2/m * X_b.T.dot(X_b.dot(theta)-y)\n",
    "theta = theta - eta*gradients"
   ]
  },
  {
   "cell_type": "code",
   "execution_count": 83,
   "id": "d4e5aa56",
   "metadata": {},
   "outputs": [
    {
     "data": {
      "text/plain": [
       "15.02110160227404"
      ]
     },
     "execution_count": 83,
     "metadata": {},
     "output_type": "execute_result"
    }
   ],
   "source": [
    "y_hat = predict(X_b)\n",
    "mse(y, y_hat)"
   ]
  },
  {
   "cell_type": "code",
   "execution_count": 87,
   "id": "22b854bf",
   "metadata": {},
   "outputs": [
    {
     "name": "stdout",
     "output_type": "stream",
     "text": [
      "1.0447684707072364\n",
      "1.0447684707072367\n",
      "1.0447684707072367\n",
      "1.0447684707072367\n",
      "1.0447684707072367\n",
      "1.0447684707072367\n",
      "1.0447684707072367\n",
      "1.0447684707072367\n",
      "1.0447684707072367\n",
      "1.0447684707072367\n"
     ]
    }
   ],
   "source": [
    "for it in range(n_iterations):\n",
    "    gradients = 2/m * X_b.T.dot(X_b.dot(theta)-y)\n",
    "    theta = theta - eta*gradients\n",
    "    y_hat = predict(X_b)\n",
    "    if it % 100 == 0:\n",
    "        print(mse(y, y_hat))"
   ]
  },
  {
   "cell_type": "code",
   "execution_count": 88,
   "id": "39fafc0e",
   "metadata": {},
   "outputs": [
    {
     "data": {
      "text/plain": [
       "array([[3.82442294],\n",
       "       [3.14632745]])"
      ]
     },
     "execution_count": 88,
     "metadata": {},
     "output_type": "execute_result"
    }
   ],
   "source": [
    "theta"
   ]
  },
  {
   "cell_type": "code",
   "execution_count": null,
   "id": "2fc07c07",
   "metadata": {},
   "outputs": [],
   "source": [
    "eta = 0.1 # learning rate\n",
    "n_iterations = 1000\n",
    "m = 100\n",
    "theta = np.random.randn(2,1) # random initialization\n",
    "for iteration in range(n_iterations):\n",
    "    gradients = 2/m * X_b.T.dot(X_b.dot(theta) - y)\n",
    "    theta = theta - eta * gradients"
   ]
  },
  {
   "cell_type": "code",
   "execution_count": null,
   "id": "37ab2858",
   "metadata": {},
   "outputs": [],
   "source": []
  },
  {
   "cell_type": "code",
   "execution_count": 89,
   "id": "78af5c93",
   "metadata": {},
   "outputs": [],
   "source": [
    "import seaborn as sns"
   ]
  },
  {
   "cell_type": "code",
   "execution_count": 97,
   "id": "18020cc2",
   "metadata": {},
   "outputs": [],
   "source": [
    "mpg = sns.load_dataset('mpg').dropna()"
   ]
  },
  {
   "cell_type": "code",
   "execution_count": 98,
   "id": "0d46ae4f",
   "metadata": {},
   "outputs": [
    {
     "data": {
      "text/html": [
       "<div>\n",
       "<style scoped>\n",
       "    .dataframe tbody tr th:only-of-type {\n",
       "        vertical-align: middle;\n",
       "    }\n",
       "\n",
       "    .dataframe tbody tr th {\n",
       "        vertical-align: top;\n",
       "    }\n",
       "\n",
       "    .dataframe thead th {\n",
       "        text-align: right;\n",
       "    }\n",
       "</style>\n",
       "<table border=\"1\" class=\"dataframe\">\n",
       "  <thead>\n",
       "    <tr style=\"text-align: right;\">\n",
       "      <th></th>\n",
       "      <th>mpg</th>\n",
       "      <th>cylinders</th>\n",
       "      <th>displacement</th>\n",
       "      <th>horsepower</th>\n",
       "      <th>weight</th>\n",
       "      <th>acceleration</th>\n",
       "      <th>model_year</th>\n",
       "      <th>origin</th>\n",
       "      <th>name</th>\n",
       "    </tr>\n",
       "  </thead>\n",
       "  <tbody>\n",
       "    <tr>\n",
       "      <th>0</th>\n",
       "      <td>18.0</td>\n",
       "      <td>8</td>\n",
       "      <td>307.0</td>\n",
       "      <td>130.0</td>\n",
       "      <td>3504</td>\n",
       "      <td>12.0</td>\n",
       "      <td>70</td>\n",
       "      <td>usa</td>\n",
       "      <td>chevrolet chevelle malibu</td>\n",
       "    </tr>\n",
       "    <tr>\n",
       "      <th>1</th>\n",
       "      <td>15.0</td>\n",
       "      <td>8</td>\n",
       "      <td>350.0</td>\n",
       "      <td>165.0</td>\n",
       "      <td>3693</td>\n",
       "      <td>11.5</td>\n",
       "      <td>70</td>\n",
       "      <td>usa</td>\n",
       "      <td>buick skylark 320</td>\n",
       "    </tr>\n",
       "    <tr>\n",
       "      <th>2</th>\n",
       "      <td>18.0</td>\n",
       "      <td>8</td>\n",
       "      <td>318.0</td>\n",
       "      <td>150.0</td>\n",
       "      <td>3436</td>\n",
       "      <td>11.0</td>\n",
       "      <td>70</td>\n",
       "      <td>usa</td>\n",
       "      <td>plymouth satellite</td>\n",
       "    </tr>\n",
       "    <tr>\n",
       "      <th>3</th>\n",
       "      <td>16.0</td>\n",
       "      <td>8</td>\n",
       "      <td>304.0</td>\n",
       "      <td>150.0</td>\n",
       "      <td>3433</td>\n",
       "      <td>12.0</td>\n",
       "      <td>70</td>\n",
       "      <td>usa</td>\n",
       "      <td>amc rebel sst</td>\n",
       "    </tr>\n",
       "    <tr>\n",
       "      <th>4</th>\n",
       "      <td>17.0</td>\n",
       "      <td>8</td>\n",
       "      <td>302.0</td>\n",
       "      <td>140.0</td>\n",
       "      <td>3449</td>\n",
       "      <td>10.5</td>\n",
       "      <td>70</td>\n",
       "      <td>usa</td>\n",
       "      <td>ford torino</td>\n",
       "    </tr>\n",
       "  </tbody>\n",
       "</table>\n",
       "</div>"
      ],
      "text/plain": [
       "    mpg  cylinders  displacement  horsepower  weight  acceleration  \\\n",
       "0  18.0          8         307.0       130.0    3504          12.0   \n",
       "1  15.0          8         350.0       165.0    3693          11.5   \n",
       "2  18.0          8         318.0       150.0    3436          11.0   \n",
       "3  16.0          8         304.0       150.0    3433          12.0   \n",
       "4  17.0          8         302.0       140.0    3449          10.5   \n",
       "\n",
       "   model_year origin                       name  \n",
       "0          70    usa  chevrolet chevelle malibu  \n",
       "1          70    usa          buick skylark 320  \n",
       "2          70    usa         plymouth satellite  \n",
       "3          70    usa              amc rebel sst  \n",
       "4          70    usa                ford torino  "
      ]
     },
     "execution_count": 98,
     "metadata": {},
     "output_type": "execute_result"
    }
   ],
   "source": [
    "mpg.head()"
   ]
  },
  {
   "cell_type": "code",
   "execution_count": 99,
   "id": "918df8b2",
   "metadata": {},
   "outputs": [],
   "source": [
    "features = [\"cylinders\", \"displacement\", \"horsepower\", \"weight\", \"acceleration\"]"
   ]
  },
  {
   "cell_type": "markdown",
   "id": "120c8065",
   "metadata": {},
   "source": [
    "    Transformers -> preprocess according to ML Model -> fit, transform, fit_transform\n",
    "    Models -> used Train machine -> fit, predict"
   ]
  },
  {
   "cell_type": "code",
   "execution_count": 106,
   "id": "faef2186",
   "metadata": {},
   "outputs": [],
   "source": [
    "# Transformer Class\n",
    "class StandardScaler:\n",
    "    def __init__(self):\n",
    "        self.mean = None\n",
    "        self.std = None\n",
    "    def fit(self, X):\n",
    "        self.mean = X.mean(axis=0)\n",
    "        self.std = X.std(axis=0)\n",
    "        return self\n",
    "    def transform(self, X):\n",
    "        return (X-self.mean)/self.std\n",
    "    def fit_transform(self, X):\n",
    "        self.fit(X)\n",
    "        return self.transform(X)\n",
    "    def __repr__(self):\n",
    "        return \"StandardScaler()\"\n",
    "        "
   ]
  },
  {
   "cell_type": "code",
   "execution_count": 107,
   "id": "d902dfb3",
   "metadata": {},
   "outputs": [],
   "source": [
    "scaler = StandardScaler()"
   ]
  },
  {
   "cell_type": "code",
   "execution_count": 108,
   "id": "ac61433c",
   "metadata": {},
   "outputs": [],
   "source": [
    "X = mpg[features].to_numpy()\n",
    "X_tr = scaler.fit_transform(X)"
   ]
  },
  {
   "cell_type": "code",
   "execution_count": 111,
   "id": "a66c7287",
   "metadata": {},
   "outputs": [],
   "source": [
    "y = mpg['mpg']"
   ]
  },
  {
   "cell_type": "code",
   "execution_count": 109,
   "id": "d10ea548",
   "metadata": {},
   "outputs": [
    {
     "data": {
      "text/plain": [
       "array([[   8. ,  307. ,  130. , 3504. ,   12. ],\n",
       "       [   8. ,  350. ,  165. , 3693. ,   11.5],\n",
       "       [   8. ,  318. ,  150. , 3436. ,   11. ],\n",
       "       [   8. ,  304. ,  150. , 3433. ,   12. ],\n",
       "       [   8. ,  302. ,  140. , 3449. ,   10.5]])"
      ]
     },
     "execution_count": 109,
     "metadata": {},
     "output_type": "execute_result"
    }
   ],
   "source": [
    "X[:5]"
   ]
  },
  {
   "cell_type": "code",
   "execution_count": 110,
   "id": "0b59a72a",
   "metadata": {
    "scrolled": true
   },
   "outputs": [
    {
     "data": {
      "text/plain": [
       "array([[ 1.48394702,  1.07728956,  0.66413273,  0.62054034, -1.285258  ],\n",
       "       [ 1.48394702,  1.48873169,  1.57459447,  0.84333403, -1.46672362],\n",
       "       [ 1.48394702,  1.1825422 ,  1.18439658,  0.54038176, -1.64818924],\n",
       "       [ 1.48394702,  1.04858429,  1.18439658,  0.53684535, -1.285258  ],\n",
       "       [ 1.48394702,  1.02944745,  0.92426466,  0.5557062 , -1.82965485]])"
      ]
     },
     "execution_count": 110,
     "metadata": {},
     "output_type": "execute_result"
    }
   ],
   "source": [
    "X_tr[:5]"
   ]
  },
  {
   "cell_type": "code",
   "execution_count": 112,
   "id": "ae08fe45",
   "metadata": {},
   "outputs": [
    {
     "data": {
      "text/plain": [
       "(392,)"
      ]
     },
     "execution_count": 112,
     "metadata": {},
     "output_type": "execute_result"
    }
   ],
   "source": [
    "y.shape"
   ]
  },
  {
   "cell_type": "code",
   "execution_count": 113,
   "id": "363e4170",
   "metadata": {},
   "outputs": [
    {
     "data": {
      "text/plain": [
       "(392, 5)"
      ]
     },
     "execution_count": 113,
     "metadata": {},
     "output_type": "execute_result"
    }
   ],
   "source": [
    "X.shape"
   ]
  },
  {
   "cell_type": "code",
   "execution_count": null,
   "id": "d3a7e63f",
   "metadata": {},
   "outputs": [],
   "source": [
    "    y -> 1D array"
   ]
  },
  {
   "cell_type": "markdown",
   "id": "c365451a",
   "metadata": {},
   "source": [
    "$$ \\hat y = b + wX$$"
   ]
  },
  {
   "cell_type": "markdown",
   "id": "3aec3fc3",
   "metadata": {},
   "source": [
    "features = [\"cylinders\", \"displacement\", \"horsepower\", \"weight\", \"acceleration\"]\n",
    "\n",
    "$$\\hat {\\text {mpg}} = \\theta_0 + \\theta_1 \\text {cylinders} + \\theta_2 \\text {displacement} + \\theta_3 \\text {horsepower} + \\theta_4 \\text {weight} +\\theta_5 \\text {acceleration}  $$\n",
    "\n",
    "$$ \\hat y = \\theta_0 + \\theta_1 X_1 +  \\theta_2 X_2 +  \\theta_3 X_3 +  \\theta_4 X_4 +  \\theta_5 X5$$"
   ]
  },
  {
   "cell_type": "code",
   "execution_count": 118,
   "id": "a5c81e66",
   "metadata": {},
   "outputs": [
    {
     "data": {
      "text/plain": [
       "array([[-1.72782578],\n",
       "       [-0.58422915],\n",
       "       [-0.25749398],\n",
       "       [-2.24433934],\n",
       "       [ 0.85038927],\n",
       "       [-0.36377585]])"
      ]
     },
     "execution_count": 118,
     "metadata": {},
     "output_type": "execute_result"
    }
   ],
   "source": [
    "t = np.random.randn(X_tr.shape[1]+1, 1)\n",
    "t"
   ]
  },
  {
   "cell_type": "code",
   "execution_count": null,
   "id": "fafb1742",
   "metadata": {},
   "outputs": [],
   "source": []
  },
  {
   "cell_type": "code",
   "execution_count": 119,
   "id": "7835762c",
   "metadata": {},
   "outputs": [
    {
     "data": {
      "text/plain": [
       "(6, 1)"
      ]
     },
     "execution_count": 119,
     "metadata": {},
     "output_type": "execute_result"
    }
   ],
   "source": [
    "t.shape"
   ]
  },
  {
   "cell_type": "code",
   "execution_count": null,
   "id": "11d98ae7",
   "metadata": {},
   "outputs": [],
   "source": [
    "class SGDRegressor:\n",
    "    def __init__(self, eta0=0.01, max_iter=1000, tol=0.001, early_stopping=False):\n",
    "        self.eta = eta0\n",
    "        self.max_iter = max_iter\n",
    "    def fit(self, X, y):\n",
    "        y = y.reshape(-1, 1)\n",
    "        self.theta = np.random.randn(X.shape[1]+1, 1)\n",
    "        \n",
    "        \n",
    "        "
   ]
  }
 ],
 "metadata": {
  "kernelspec": {
   "display_name": "Python 3 (ipykernel)",
   "language": "python",
   "name": "python3"
  },
  "language_info": {
   "codemirror_mode": {
    "name": "ipython",
    "version": 3
   },
   "file_extension": ".py",
   "mimetype": "text/x-python",
   "name": "python",
   "nbconvert_exporter": "python",
   "pygments_lexer": "ipython3",
   "version": "3.9.12"
  }
 },
 "nbformat": 4,
 "nbformat_minor": 5
}
