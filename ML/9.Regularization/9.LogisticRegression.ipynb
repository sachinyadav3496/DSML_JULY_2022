{
 "cells": [
  {
   "cell_type": "code",
   "execution_count": 1,
   "id": "aa102021",
   "metadata": {},
   "outputs": [],
   "source": [
    "import numpy as np\n",
    "import pandas as pd\n",
    "import matplotlib.pyplot as plt\n",
    "import seaborn as sns"
   ]
  },
  {
   "cell_type": "code",
   "execution_count": 12,
   "id": "2d957cc7",
   "metadata": {},
   "outputs": [],
   "source": [
    "mpg = sns.load_dataset('mpg').dropna()\n",
    "\n",
    "X = mpg[[\"horsepower\"]].values\n",
    "y = mpg[\"mpg\"].values"
   ]
  },
  {
   "cell_type": "code",
   "execution_count": 13,
   "id": "a50a6969",
   "metadata": {},
   "outputs": [
    {
     "data": {
      "text/plain": [
       "array([[130.],\n",
       "       [165.],\n",
       "       [150.],\n",
       "       [150.],\n",
       "       [140.]])"
      ]
     },
     "execution_count": 13,
     "metadata": {},
     "output_type": "execute_result"
    }
   ],
   "source": [
    "X[:5]"
   ]
  },
  {
   "cell_type": "code",
   "execution_count": 14,
   "id": "b6aab8b7",
   "metadata": {},
   "outputs": [
    {
     "data": {
      "text/plain": [
       "array([18., 15., 18., 16., 17.])"
      ]
     },
     "execution_count": 14,
     "metadata": {},
     "output_type": "execute_result"
    }
   ],
   "source": [
    "y[:5]"
   ]
  },
  {
   "cell_type": "code",
   "execution_count": 15,
   "id": "f05ad9c5",
   "metadata": {},
   "outputs": [
    {
     "data": {
      "image/png": "[encoded data removed]",
      "text/plain": [
       "<Figure size 432x288 with 1 Axes>"
      ]
     },
     "metadata": {
      "needs_background": "light"
     },
     "output_type": "display_data"
    }
   ],
   "source": [
    "plt.scatter(X, y)\n",
    "plt.xlabel(\"horsepower\")\n",
    "plt.ylabel(\"mpg\")\n",
    "plt.show()"
   ]
  },
  {
   "cell_type": "markdown",
   "id": "1a4fa588",
   "metadata": {},
   "source": [
    "    we want to predict milege on the basis of horsepower"
   ]
  },
  {
   "cell_type": "code",
   "execution_count": 16,
   "id": "ef12e862",
   "metadata": {},
   "outputs": [],
   "source": [
    "from sklearn.model_selection import train_test_split\n",
    "# train_test_split -> Random Sampling\n",
    "np.random.seed(141)"
   ]
  },
  {
   "cell_type": "markdown",
   "id": "e869e3dc",
   "metadata": {},
   "source": [
    "    data\n",
    "    \n",
    "        train\n",
    "            features.csv -> X_train\n",
    "            target.csv   -> y_train\n",
    "            \n",
    "            [train.csv]\n",
    "        test\n",
    "            features.csv -> X_test\n",
    "            target.csv   -> y_test\n",
    "            \n",
    "            [test.csv]"
   ]
  },
  {
   "cell_type": "code",
   "execution_count": 17,
   "id": "dae783be",
   "metadata": {},
   "outputs": [],
   "source": [
    "X_train, X_test, y_train, y_test = train_test_split(X, y, test_size=0.2, random_state=141)"
   ]
  },
  {
   "cell_type": "code",
   "execution_count": 18,
   "id": "d444372d",
   "metadata": {},
   "outputs": [
    {
     "data": {
      "text/plain": [
       "array([[ 95.],\n",
       "       [175.],\n",
       "       [100.],\n",
       "       [ 75.],\n",
       "       [110.]])"
      ]
     },
     "execution_count": 18,
     "metadata": {},
     "output_type": "execute_result"
    }
   ],
   "source": [
    "X_train[:5]"
   ]
  },
  {
   "cell_type": "code",
   "execution_count": 19,
   "id": "e9259572",
   "metadata": {},
   "outputs": [
    {
     "data": {
      "text/plain": [
       "array([18., 14., 20., 36., 25.])"
      ]
     },
     "execution_count": 19,
     "metadata": {},
     "output_type": "execute_result"
    }
   ],
   "source": [
    "y_train[:5]"
   ]
  },
  {
   "cell_type": "code",
   "execution_count": 29,
   "id": "b8fbe449",
   "metadata": {},
   "outputs": [],
   "source": [
    "from sklearn.preprocessing import PolynomialFeatures\n",
    "from sklearn.linear_model import LinearRegression\n",
    "from sklearn.metrics import mean_squared_error"
   ]
  },
  {
   "cell_type": "code",
   "execution_count": 22,
   "id": "92341167",
   "metadata": {},
   "outputs": [],
   "source": []
  },
  {
   "cell_type": "code",
   "execution_count": 39,
   "id": "b019d9df",
   "metadata": {},
   "outputs": [],
   "source": [
    "def fit(X, y):\n",
    "    poly.fit(X)\n",
    "    X_tr = poly.transform(X)\n",
    "    model.fit(X_tr, y)\n",
    "\n",
    "def predict(X):\n",
    "    X_tr = poly.transform(X)\n",
    "    y_hat = model.predict(X_tr)\n",
    "    return y_hat\n",
    "\n",
    "def error():\n",
    "    y_hat_train = predict(X_train)\n",
    "    y_hat_test = predict(X_test)\n",
    "    train_error = np.sqrt(mean_squared_error(y_train, y_hat_train))\n",
    "    test_error = np.sqrt(mean_squared_error(y_test, y_hat_test))# RMSE\n",
    "    print(f\"Training Error: {train_error:.2f}\")\n",
    "    print(f\"Test Error: {test_error:.2f}\")"
   ]
  },
  {
   "cell_type": "markdown",
   "id": "949c515c",
   "metadata": {},
   "source": [
    "#### Regularizing Polynomial Models"
   ]
  },
  {
   "cell_type": "code",
   "execution_count": 48,
   "id": "784dc391",
   "metadata": {},
   "outputs": [
    {
     "name": "stdout",
     "output_type": "stream",
     "text": [
      "______________________________\n",
      "Degree:  1\n",
      "Training Error: 4.86\n",
      "Test Error: 5.02\n",
      "________________________________\n",
      "______________________________\n",
      "Degree:  2\n",
      "Training Error: 4.42\n",
      "Test Error: 4.12\n",
      "________________________________\n",
      "______________________________\n",
      "Degree:  3\n",
      "Training Error: 4.42\n",
      "Test Error: 4.10\n",
      "________________________________\n",
      "______________________________\n",
      "Degree:  4\n",
      "Training Error: 4.41\n",
      "Test Error: 4.10\n",
      "________________________________\n",
      "______________________________\n",
      "Degree:  5\n",
      "Training Error: 4.35\n",
      "Test Error: 4.08\n",
      "________________________________\n",
      "______________________________\n",
      "Degree:  6\n",
      "Training Error: 4.33\n",
      "Test Error: 4.07\n",
      "________________________________\n",
      "______________________________\n",
      "Degree:  7\n",
      "Training Error: 4.35\n",
      "Test Error: 4.07\n",
      "________________________________\n",
      "______________________________\n",
      "Degree:  8\n",
      "Training Error: 4.38\n",
      "Test Error: 4.07\n",
      "________________________________\n",
      "______________________________\n",
      "Degree:  9\n",
      "Training Error: 4.38\n",
      "Test Error: 4.06\n",
      "________________________________\n",
      "______________________________\n",
      "Degree:  10\n",
      "Training Error: 4.36\n",
      "Test Error: 4.06\n",
      "________________________________\n",
      "______________________________\n",
      "Degree:  11\n",
      "Training Error: 4.37\n",
      "Test Error: 4.07\n",
      "________________________________\n",
      "______________________________\n",
      "Degree:  12\n",
      "Training Error: 4.71\n",
      "Test Error: 4.77\n",
      "________________________________\n",
      "______________________________\n",
      "Degree:  13\n",
      "Training Error: 4.90\n",
      "Test Error: 5.15\n",
      "________________________________\n",
      "______________________________\n",
      "Degree:  14\n",
      "Training Error: 5.09\n",
      "Test Error: 5.52\n",
      "________________________________\n",
      "______________________________\n",
      "Degree:  15\n",
      "Training Error: 5.27\n",
      "Test Error: 5.81\n",
      "________________________________\n",
      "______________________________\n",
      "Degree:  16\n",
      "Training Error: 5.41\n",
      "Test Error: 6.04\n",
      "________________________________\n",
      "______________________________\n",
      "Degree:  17\n",
      "Training Error: 5.54\n",
      "Test Error: 6.22\n",
      "________________________________\n",
      "______________________________\n",
      "Degree:  18\n",
      "Training Error: 5.65\n",
      "Test Error: 6.36\n",
      "________________________________\n",
      "______________________________\n",
      "Degree:  19\n",
      "Training Error: 5.77\n",
      "Test Error: 6.49\n",
      "________________________________\n"
     ]
    }
   ],
   "source": [
    "for d in range(1, 20):\n",
    "    print(\"______________________________\")\n",
    "    print(\"Degree: \", d)\n",
    "    poly = PolynomialFeatures(degree=d)\n",
    "    model = LinearRegression()\n",
    "    fit(X_train, y_train)\n",
    "    error()\n",
    "    print(\"________________________________\")"
   ]
  },
  {
   "cell_type": "code",
   "execution_count": 119,
   "id": "145987b2",
   "metadata": {},
   "outputs": [
    {
     "data": {
      "text/plain": [
       "array([1, 2, 3, 4, 5, 6])"
      ]
     },
     "execution_count": 119,
     "metadata": {},
     "output_type": "execute_result"
    }
   ],
   "source": [
    "np.array([[1, 2, 3], [4, 5, 6]]).ravel()"
   ]
  },
  {
   "cell_type": "code",
   "execution_count": 149,
   "id": "11bd17a8",
   "metadata": {},
   "outputs": [],
   "source": [
    "X = -6*np.random.random((1000, 1))+3\n",
    "y = (X**5+X**3*3+X**2*2+0.5*X+np.random.random((1000, 1))*50).ravel()\n",
    "X_train, X_test, y_train, y_test = train_test_split(X, y, test_size=0.2)"
   ]
  },
  {
   "cell_type": "code",
   "execution_count": 150,
   "id": "5708b657",
   "metadata": {},
   "outputs": [
    {
     "data": {
      "text/plain": [
       "<matplotlib.collections.PathCollection at 0x16c9e5db040>"
      ]
     },
     "execution_count": 150,
     "metadata": {},
     "output_type": "execute_result"
    },
    {
     "data": {
      "image/png": "[encoded data removed]",
      "text/plain": [
       "<Figure size 432x288 with 1 Axes>"
      ]
     },
     "metadata": {
      "needs_background": "light"
     },
     "output_type": "display_data"
    }
   ],
   "source": [
    "plt.scatter(X_train, y_train)"
   ]
  },
  {
   "cell_type": "code",
   "execution_count": null,
   "id": "ff2bbd2c",
   "metadata": {},
   "outputs": [],
   "source": []
  },
  {
   "cell_type": "code",
   "execution_count": 151,
   "id": "a623caf5",
   "metadata": {},
   "outputs": [],
   "source": [
    "from sklearn.metrics import r2_score"
   ]
  },
  {
   "cell_type": "code",
   "execution_count": 152,
   "id": "5de9a0f4",
   "metadata": {},
   "outputs": [],
   "source": [
    "from sklearn.preprocessing import PolynomialFeatures, StandardScaler\n",
    "from sklearn.pipeline import Pipeline\n",
    "from sklearn.linear_model import Ridge"
   ]
  },
  {
   "cell_type": "code",
   "execution_count": 153,
   "id": "4939164c",
   "metadata": {},
   "outputs": [],
   "source": [
    "# Training Methods\n",
    "#      Direct Method   \n",
    "#      SGD Method\n",
    "\n",
    "poly = PolynomialFeatures(degree=7, include_bias=False) # x^7, x^6, x^5, x^4, x^3, x^2, x\n",
    "scaler = StandardScaler()\n",
    "\n",
    "X_train_tr = poly.fit_transform(X_train)\n",
    "X_test_tr = poly.transform(X_test)\n",
    "\n",
    "X_train_tr = scaler.fit_transform(X_train_tr)\n",
    "X_test_tr = scaler.transform(X_test_tr)"
   ]
  },
  {
   "cell_type": "code",
   "execution_count": 154,
   "id": "e8bb5ed6",
   "metadata": {},
   "outputs": [
    {
     "name": "stdout",
     "output_type": "stream",
     "text": [
      "Train: 0.98\n",
      "Test: 0.98\n"
     ]
    }
   ],
   "source": [
    "# Nomram Equation Direct\n",
    "\n",
    "model = Ridge(alpha=1, solver=\"cholesky\")\n",
    "\n",
    "model.fit(X_train_tr, y_train)\n",
    "train_acc = r2_score(y_train, model.predict(X_train_tr))\n",
    "test_acc = r2_score(y_test, model.predict(X_test_tr))\n",
    "\n",
    "print(f\"Train: {train_acc:.2f}\")\n",
    "print(f\"Test: {test_acc:.2f}\")"
   ]
  },
  {
   "cell_type": "code",
   "execution_count": 157,
   "id": "f7271d46",
   "metadata": {},
   "outputs": [
    {
     "name": "stdout",
     "output_type": "stream",
     "text": [
      "alpha=100 Train: 0.98\n",
      "alpha=200 Train: 0.98\n",
      "alpha=300 Train: 0.97\n",
      "alpha=400 Train: 0.96\n",
      "alpha=500 Train: 0.96\n",
      "alpha=600 Train: 0.95\n",
      "alpha=700 Train: 0.94\n",
      "alpha=800 Train: 0.93\n",
      "alpha=900 Train: 0.92\n"
     ]
    }
   ],
   "source": [
    "for alpha in np.arange(100, 1000, 100):\n",
    "    #print(alpha)\n",
    "    model = Ridge(alpha=alpha, solver=\"cholesky\")\n",
    "    model.fit(X_train_tr, y_train)\n",
    "    train_acc = r2_score(y_train, model.predict(X_train_tr))\n",
    "    #test_acc = r2_score(y_test, model.predict(X_test_tr))\n",
    "    print(f\"alpha={alpha} Train: {train_acc:.2f}\")\n",
    "    #print(f\"Test: {test_acc:.2f}\")"
   ]
  },
  {
   "cell_type": "code",
   "execution_count": 158,
   "id": "31c23660",
   "metadata": {},
   "outputs": [],
   "source": [
    "from sklearn.linear_model import SGDRegressor"
   ]
  },
  {
   "cell_type": "code",
   "execution_count": 159,
   "id": "bc3f5c85",
   "metadata": {},
   "outputs": [],
   "source": [
    "# Ridge Regression Model\n",
    "model = SGDRegressor(penalty=\"l2\", alpha=0.0001) # theta^2"
   ]
  },
  {
   "cell_type": "code",
   "execution_count": 160,
   "id": "1ab2014a",
   "metadata": {},
   "outputs": [
    {
     "name": "stdout",
     "output_type": "stream",
     "text": [
      "alpha=0.00 Train: 0.98 Test: 0.98\n",
      "alpha=0.20 Train: 0.98 Test: 0.97\n",
      "alpha=0.40 Train: 0.97 Test: 0.97\n",
      "alpha=0.60 Train: 0.96 Test: 0.95\n",
      "alpha=0.80 Train: 0.95 Test: 0.94\n",
      "alpha=1.00 Train: 0.93 Test: 0.92\n"
     ]
    }
   ],
   "source": [
    "\n",
    "for alpha in np.arange(0, 1.2, 0.2):\n",
    "    #print(alpha)\n",
    "    # Ridge Regression Model\n",
    "    model = SGDRegressor(penalty=\"l2\", alpha=alpha, eta0=0.01) # theta^2ion\n",
    "    model.fit(X_train_tr, y_train)\n",
    "    train_acc = r2_score(y_train, model.predict(X_train_tr))\n",
    "    test_acc = r2_score(y_test, model.predict(X_test_tr))\n",
    "    print(f\"alpha={alpha:.2f} Train: {train_acc:.2f} Test: {test_acc:.2f}\")\n",
    "    #print(f\"Test: {test_acc:.2f}\")"
   ]
  },
  {
   "cell_type": "code",
   "execution_count": 163,
   "id": "bab5314b",
   "metadata": {},
   "outputs": [],
   "source": [
    "from sklearn.preprocessing import PolynomialFeatures, StandardScaler\n",
    "from sklearn.pipeline import Pipeline\n",
    "from sklearn.linear_model import SGDRegressor\n",
    "from sklearn.model_selection import train_test_split"
   ]
  },
  {
   "cell_type": "code",
   "execution_count": 182,
   "id": "2797d86f",
   "metadata": {},
   "outputs": [],
   "source": [
    "m = 1000\n",
    "X = -6*np.random.random((m, 1))+3\n",
    "y = (X**5+X**3*3+X**2*2+0.5*X+np.random.random((m, 1))*(m//10)).ravel()\n",
    "X_train, X_test, y_train, y_test = train_test_split(X, y, test_size=0.2)"
   ]
  },
  {
   "cell_type": "code",
   "execution_count": 183,
   "id": "c2b37dd0",
   "metadata": {},
   "outputs": [
    {
     "data": {
      "image/png": "[encoded data removed]",
      "text/plain": [
       "<Figure size 432x288 with 1 Axes>"
      ]
     },
     "metadata": {
      "needs_background": "light"
     },
     "output_type": "display_data"
    }
   ],
   "source": [
    "plt.scatter(X_train, y_train)\n",
    "plt.show()"
   ]
  },
  {
   "cell_type": "code",
   "execution_count": 192,
   "id": "e73b2026",
   "metadata": {},
   "outputs": [
    {
     "name": "stdout",
     "output_type": "stream",
     "text": [
      "0.8528105414205388\n"
     ]
    }
   ],
   "source": [
    "d = 13\n",
    "alpha = 2\n",
    "\n",
    "model = Pipeline([\n",
    "    (\"poly features\", PolynomialFeatures(degree=d)),\n",
    "    (\"scaling\", StandardScaler()),\n",
    "    (\"ridge SGD\", SGDRegressor(penalty=\"l2\", alpha=alpha))\n",
    "])\n",
    "\n",
    "model.fit(X_train, y_train)\n",
    "y_train_hat = model.predict(X_train)\n",
    "print(r2_score(y_train, y_train_hat))"
   ]
  },
  {
   "cell_type": "code",
   "execution_count": 202,
   "id": "f0177aa1",
   "metadata": {},
   "outputs": [
    {
     "name": "stdout",
     "output_type": "stream",
     "text": [
      "alpha =  0.00 Train: 0.93 Test: 0.92\n",
      "alpha =  0.20 Train: 0.93 Test: 0.92\n",
      "alpha =  0.40 Train: 0.92 Test: 0.91\n",
      "alpha =  0.60 Train: 0.90 Test: 0.90\n",
      "alpha =  0.80 Train: 0.89 Test: 0.88\n",
      "alpha =  1.00 Train: 0.88 Test: 0.88\n",
      "alpha =  1.20 Train: 0.84 Test: 0.85\n",
      "alpha =  1.40 Train: 0.84 Test: 0.85\n",
      "alpha =  1.60 Train: 0.82 Test: 0.83\n",
      "alpha =  1.80 Train: 0.82 Test: 0.82\n",
      "alpha =  2.00 Train: 0.77 Test: 0.78\n",
      "alpha =  2.20 Train: 0.75 Test: 0.77\n",
      "alpha =  2.40 Train: 0.76 Test: 0.77\n",
      "alpha =  2.60 Train: 0.75 Test: 0.76\n",
      "alpha =  2.80 Train: 0.73 Test: 0.75\n",
      "alpha =  3.00 Train: 0.71 Test: 0.74\n"
     ]
    }
   ],
   "source": [
    "for alpha in np.arange(0, 3.2, .2):\n",
    "    d = 7\n",
    "    model = Pipeline([\n",
    "        (\"poly features\", PolynomialFeatures(degree=d)),\n",
    "        (\"scaling\", StandardScaler()),\n",
    "        (\"ridge SGD\", SGDRegressor(penalty=\"l2\", alpha=alpha))\n",
    "    ])\n",
    "\n",
    "    model.fit(X_train, y_train)\n",
    "    y_train_hat = model.predict(X_train)\n",
    "    y_test_hat = model.predict(X_test)\n",
    "    train_acc = r2_score(y_test, y_test_hat)\n",
    "    test_acc = r2_score(y_train, y_train_hat)\n",
    "    print(f\"alpha = {alpha: 0.2f} Train: {train_acc:0.2f} Test: {test_acc:0.2f}\")"
   ]
  },
  {
   "cell_type": "code",
   "execution_count": 205,
   "id": "a5aabf76",
   "metadata": {},
   "outputs": [
    {
     "name": "stdout",
     "output_type": "stream",
     "text": [
      "alpha =  0.00 Train: 0.93 Test: 0.92\n",
      "alpha =  1.00 Train: 0.93 Test: 0.92\n",
      "alpha =  2.00 Train: 0.93 Test: 0.92\n",
      "alpha =  3.00 Train: 0.92 Test: 0.92\n",
      "alpha =  4.00 Train: 0.92 Test: 0.92\n",
      "alpha =  5.00 Train: 0.92 Test: 0.91\n",
      "alpha =  6.00 Train: 0.92 Test: 0.92\n",
      "alpha =  7.00 Train: 0.92 Test: 0.91\n",
      "alpha =  8.00 Train: 0.91 Test: 0.91\n",
      "alpha =  9.00 Train: 0.91 Test: 0.91\n"
     ]
    }
   ],
   "source": [
    "# Training Curves \n",
    "# GRID SEARCH / RANDOM SEARCH -> Hyper parameter Tuning\n",
    "for alpha in np.arange(0, 10, 1):\n",
    "    d = 7\n",
    "    model = Pipeline([\n",
    "        (\"poly features\", PolynomialFeatures(degree=d)),\n",
    "        (\"scaling\", StandardScaler()),\n",
    "        # LASSO Regression\n",
    "        (\"ridge SGD\", SGDRegressor(penalty=\"l1\", alpha=alpha, ))\n",
    "    ])\n",
    "\n",
    "    model.fit(X_train, y_train)\n",
    "    y_train_hat = model.predict(X_train)\n",
    "    y_test_hat = model.predict(X_test)\n",
    "    train_acc = r2_score(y_test, y_test_hat)\n",
    "    test_acc = r2_score(y_train, y_train_hat)\n",
    "    print(f\"alpha = {alpha: 0.2f} Train: {train_acc:0.2f} Test: {test_acc:0.2f}\")"
   ]
  },
  {
   "cell_type": "markdown",
   "id": "687103d2",
   "metadata": {},
   "source": [
    "### Regression Project \n",
    "\n",
    "\n",
    "### Classification\n",
    "\n",
    "    Logistic Classification"
   ]
  },
  {
   "cell_type": "code",
   "execution_count": null,
   "id": "02573a6e",
   "metadata": {},
   "outputs": [],
   "source": []
  }
 ],
 "metadata": {
  "kernelspec": {
   "display_name": "Python 3 (ipykernel)",
   "language": "python",
   "name": "python3"
  },
  "language_info": {
   "codemirror_mode": {
    "name": "ipython",
    "version": 3
   },
   "file_extension": ".py",
   "mimetype": "text/x-python",
   "name": "python",
   "nbconvert_exporter": "python",
   "pygments_lexer": "ipython3",
   "version": "3.9.12"
  }
 },
 "nbformat": 4,
 "nbformat_minor": 5
}
