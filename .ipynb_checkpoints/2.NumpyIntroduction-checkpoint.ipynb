{
 "cells": [
  {
   "cell_type": "markdown",
   "id": "38414dc9",
   "metadata": {},
   "source": [
    "###### difference between array and list\n",
    "\n",
    "    array homoenous and list can be hetrogenous\n",
    "    \n",
    "    size of array is less size of list \n",
    "    \n",
    "    we can perform mathematical operation on list\n",
    "    \n",
    "    array operations are optimized run way faster than list operation "
   ]
  },
  {
   "cell_type": "markdown",
   "id": "f00b3baa",
   "metadata": {},
   "source": [
    "## Numpy\n",
    "\n",
    "    c++"
   ]
  },
  {
   "cell_type": "code",
   "execution_count": 1,
   "id": "7e169723",
   "metadata": {},
   "outputs": [],
   "source": [
    "import array"
   ]
  },
  {
   "cell_type": "code",
   "execution_count": 3,
   "id": "42fba4fe",
   "metadata": {},
   "outputs": [],
   "source": [
    "arr = array.array('i',[1, 2, 3, 4, 5])"
   ]
  },
  {
   "cell_type": "code",
   "execution_count": 4,
   "id": "35753204",
   "metadata": {},
   "outputs": [
    {
     "name": "stdout",
     "output_type": "stream",
     "text": [
      "array('i', [1, 2, 3, 4, 5])\n"
     ]
    }
   ],
   "source": [
    "print(arr)"
   ]
  },
  {
   "cell_type": "markdown",
   "id": "3d65d5c5",
   "metadata": {},
   "source": [
    "### Scaler\n",
    "\n",
    "    single value with magnitude and unit\n",
    "    \n",
    "    0 dimensional array  0d array"
   ]
  },
  {
   "cell_type": "code",
   "execution_count": 6,
   "id": "d24b8663",
   "metadata": {},
   "outputs": [],
   "source": [
    "weight = 82"
   ]
  },
  {
   "cell_type": "markdown",
   "id": "cffe4541",
   "metadata": {},
   "source": [
    "### Vector\n",
    "\n",
    "    collection of scaler values, where each scaler value represent different dimension/direction\n",
    "\n",
    "    row vector  [ 10, 40, 4 ]\n",
    "    \n",
    "    column vector \n",
    "                \n",
    "                [ 10,\n",
    "                  20,\n",
    "                  30 ]\n",
    "    1 dimensional array 1d array\n",
    "    "
   ]
  },
  {
   "cell_type": "markdown",
   "id": "8cc2d550",
   "metadata": {},
   "source": [
    "### Matrix \n",
    "\n",
    "    collection of vector \n",
    "    \n",
    "    2D array\n",
    "    \n",
    "    \n",
    "    \n",
    "### Tensor\n",
    "\n",
    "    collection nd arrays\n",
    "    \n",
    "    n-dimensional array"
   ]
  },
  {
   "cell_type": "markdown",
   "id": "cec8af5c",
   "metadata": {},
   "source": [
    "#### how to create an array"
   ]
  },
  {
   "cell_type": "code",
   "execution_count": 7,
   "id": "b40977c2",
   "metadata": {},
   "outputs": [],
   "source": [
    "import numpy as np"
   ]
  },
  {
   "cell_type": "code",
   "execution_count": 8,
   "id": "31b03d6a",
   "metadata": {},
   "outputs": [],
   "source": [
    "# scaler\n",
    "a = np.array(80)"
   ]
  },
  {
   "cell_type": "code",
   "execution_count": 9,
   "id": "cbe5a5d0",
   "metadata": {},
   "outputs": [
    {
     "name": "stdout",
     "output_type": "stream",
     "text": [
      "80\n"
     ]
    }
   ],
   "source": [
    "print(a)"
   ]
  },
  {
   "cell_type": "code",
   "execution_count": 10,
   "id": "a74e5a49",
   "metadata": {},
   "outputs": [
    {
     "name": "stdout",
     "output_type": "stream",
     "text": [
      "<class 'numpy.ndarray'>\n"
     ]
    }
   ],
   "source": [
    "print(type(a))"
   ]
  },
  {
   "cell_type": "code",
   "execution_count": 11,
   "id": "bea704db",
   "metadata": {},
   "outputs": [
    {
     "name": "stdout",
     "output_type": "stream",
     "text": [
      "['T', '__abs__', '__add__', '__and__', '__array__', '__array_finalize__', '__array_function__', '__array_interface__', '__array_prepare__', '__array_priority__', '__array_struct__', '__array_ufunc__', '__array_wrap__', '__bool__', '__class__', '__complex__', '__contains__', '__copy__', '__deepcopy__', '__delattr__', '__delitem__', '__dir__', '__divmod__', '__doc__', '__eq__', '__float__', '__floordiv__', '__format__', '__ge__', '__getattribute__', '__getitem__', '__gt__', '__hash__', '__iadd__', '__iand__', '__ifloordiv__', '__ilshift__', '__imatmul__', '__imod__', '__imul__', '__index__', '__init__', '__init_subclass__', '__int__', '__invert__', '__ior__', '__ipow__', '__irshift__', '__isub__', '__iter__', '__itruediv__', '__ixor__', '__le__', '__len__', '__lshift__', '__lt__', '__matmul__', '__mod__', '__mul__', '__ne__', '__neg__', '__new__', '__or__', '__pos__', '__pow__', '__radd__', '__rand__', '__rdivmod__', '__reduce__', '__reduce_ex__', '__repr__', '__rfloordiv__', '__rlshift__', '__rmatmul__', '__rmod__', '__rmul__', '__ror__', '__rpow__', '__rrshift__', '__rshift__', '__rsub__', '__rtruediv__', '__rxor__', '__setattr__', '__setitem__', '__setstate__', '__sizeof__', '__str__', '__sub__', '__subclasshook__', '__truediv__', '__xor__', 'all', 'any', 'argmax', 'argmin', 'argpartition', 'argsort', 'astype', 'base', 'byteswap', 'choose', 'clip', 'compress', 'conj', 'conjugate', 'copy', 'ctypes', 'cumprod', 'cumsum', 'data', 'diagonal', 'dot', 'dtype', 'dump', 'dumps', 'fill', 'flags', 'flat', 'flatten', 'getfield', 'imag', 'item', 'itemset', 'itemsize', 'max', 'mean', 'min', 'nbytes', 'ndim', 'newbyteorder', 'nonzero', 'partition', 'prod', 'ptp', 'put', 'ravel', 'real', 'repeat', 'reshape', 'resize', 'round', 'searchsorted', 'setfield', 'setflags', 'shape', 'size', 'sort', 'squeeze', 'std', 'strides', 'sum', 'swapaxes', 'take', 'tobytes', 'tofile', 'tolist', 'tostring', 'trace', 'transpose', 'var', 'view']\n"
     ]
    }
   ],
   "source": [
    "print(dir(a))"
   ]
  },
  {
   "cell_type": "code",
   "execution_count": 14,
   "id": "585d2713",
   "metadata": {},
   "outputs": [
    {
     "data": {
      "text/plain": [
       "0"
      ]
     },
     "execution_count": 14,
     "metadata": {},
     "output_type": "execute_result"
    }
   ],
   "source": [
    "a = np.array(80)\n",
    "a.ndim # 0 dimension array"
   ]
  },
  {
   "cell_type": "code",
   "execution_count": 15,
   "id": "88b0a15e",
   "metadata": {},
   "outputs": [
    {
     "name": "stdout",
     "output_type": "stream",
     "text": [
      "()\n"
     ]
    }
   ],
   "source": [
    "print(a.shape)"
   ]
  },
  {
   "cell_type": "code",
   "execution_count": 23,
   "id": "4b16ce9f",
   "metadata": {},
   "outputs": [],
   "source": []
  },
  {
   "cell_type": "code",
   "execution_count": 32,
   "id": "bcd3a4bb",
   "metadata": {},
   "outputs": [
    {
     "name": "stdout",
     "output_type": "stream",
     "text": [
      "<class 'numpy.ndarray'>\n",
      "dimension:  1\n",
      "shape:  (9,)\n",
      "size:  9\n",
      "itemsize:  4\n",
      "type:  int32\n",
      "total size:  36 bytes\n"
     ]
    }
   ],
   "source": [
    "a = np.array([30, 25, 15, 45, 30, 27, 55, 60, 15])\n",
    "print(type(a))\n",
    "print(\"dimension: \", a.ndim)\n",
    "print(\"shape: \", a.shape)\n",
    "print(\"size: \", a.size)\n",
    "print(\"itemsize: \", a.itemsize)\n",
    "print(\"type: \", a.dtype)\n",
    "print(\"total size: \", a.itemsize*a.size, 'bytes')"
   ]
  },
  {
   "cell_type": "code",
   "execution_count": 33,
   "id": "62902d61",
   "metadata": {},
   "outputs": [
    {
     "name": "stdout",
     "output_type": "stream",
     "text": [
      "<class 'numpy.ndarray'>\n",
      "dimension:  1\n",
      "shape:  (9,)\n",
      "size:  9\n",
      "itemsize:  1\n",
      "type:  int8\n",
      "total size:  9 bytes\n"
     ]
    }
   ],
   "source": [
    "a = np.array([30, 25, 15, 45, 30, 27, 55, 60, 15], dtype=np.int8)\n",
    "print(type(a))\n",
    "print(\"dimension: \", a.ndim)\n",
    "print(\"shape: \", a.shape)\n",
    "print(\"size: \", a.size)\n",
    "print(\"itemsize: \", a.itemsize)\n",
    "print(\"type: \", a.dtype)\n",
    "print(\"total size: \", a.itemsize*a.size, 'bytes')"
   ]
  },
  {
   "cell_type": "code",
   "execution_count": 25,
   "id": "26253cb6",
   "metadata": {},
   "outputs": [
    {
     "data": {
      "text/plain": [
       "4000"
      ]
     },
     "execution_count": 25,
     "metadata": {},
     "output_type": "execute_result"
    }
   ],
   "source": [
    "1000*4"
   ]
  },
  {
   "cell_type": "code",
   "execution_count": 18,
   "id": "328fa294",
   "metadata": {},
   "outputs": [
    {
     "data": {
      "text/plain": [
       "dtype('int32')"
      ]
     },
     "execution_count": 18,
     "metadata": {},
     "output_type": "execute_result"
    }
   ],
   "source": [
    "a.dtype"
   ]
  },
  {
   "cell_type": "markdown",
   "id": "adca751d",
   "metadata": {},
   "source": [
    "    4 bytes\n",
    "    \n",
    "    9*4 -> 36 bytes -> ? \n",
    "    \n",
    "    9*1 -> 9 bytes -> ?"
   ]
  },
  {
   "cell_type": "code",
   "execution_count": 19,
   "id": "1cdaee28",
   "metadata": {},
   "outputs": [
    {
     "data": {
      "text/plain": [
       "256"
      ]
     },
     "execution_count": 19,
     "metadata": {},
     "output_type": "execute_result"
    }
   ],
   "source": [
    "2**8"
   ]
  },
  {
   "cell_type": "code",
   "execution_count": 20,
   "id": "73be76ab",
   "metadata": {},
   "outputs": [
    {
     "data": {
      "text/plain": [
       "128"
      ]
     },
     "execution_count": 20,
     "metadata": {},
     "output_type": "execute_result"
    }
   ],
   "source": [
    "2**7"
   ]
  },
  {
   "cell_type": "markdown",
   "id": "f0850cc3",
   "metadata": {},
   "source": [
    "    1 bit \n",
    "    \n",
    "        0/1\n",
    "    8 bit \n",
    "    \n",
    "        unsigned integer\n",
    "                    8 bit -> 2^8\n",
    "        signed integer\n",
    "                    7 bit -> data 2^7 , 1 bit -> sign"
   ]
  },
  {
   "cell_type": "code",
   "execution_count": 22,
   "id": "eb0451c2",
   "metadata": {},
   "outputs": [],
   "source": [
    "a = np.array([30, 25, 15, 45, 30, 27, 55, 60, 15], dtype=np.int8) # signed interger -128 to 127"
   ]
  },
  {
   "cell_type": "markdown",
   "id": "308071b9",
   "metadata": {},
   "source": [
    "    int a; \n",
    "    \n",
    "    -32768 to 32767\n",
    "    \n",
    " "
   ]
  },
  {
   "cell_type": "code",
   "execution_count": 35,
   "id": "883b67ac",
   "metadata": {},
   "outputs": [
    {
     "data": {
      "text/plain": [
       "16"
      ]
     },
     "execution_count": 35,
     "metadata": {},
     "output_type": "execute_result"
    }
   ],
   "source": [
    "2*8"
   ]
  },
  {
   "cell_type": "code",
   "execution_count": 36,
   "id": "13f4938e",
   "metadata": {},
   "outputs": [
    {
     "data": {
      "text/plain": [
       "32768"
      ]
     },
     "execution_count": 36,
     "metadata": {},
     "output_type": "execute_result"
    }
   ],
   "source": [
    "2**15"
   ]
  },
  {
   "cell_type": "markdown",
   "id": "be01b220",
   "metadata": {},
   "source": [
    "unsigned int a;\n",
    "\n",
    "    -65536 to 65535\n"
   ]
  },
  {
   "cell_type": "code",
   "execution_count": 37,
   "id": "72b249bd",
   "metadata": {},
   "outputs": [
    {
     "data": {
      "text/plain": [
       "65536"
      ]
     },
     "execution_count": 37,
     "metadata": {},
     "output_type": "execute_result"
    }
   ],
   "source": [
    "2**16"
   ]
  },
  {
   "cell_type": "code",
   "execution_count": 43,
   "id": "0a46fca9",
   "metadata": {},
   "outputs": [
    {
     "data": {
      "text/plain": [
       "128"
      ]
     },
     "execution_count": 43,
     "metadata": {},
     "output_type": "execute_result"
    }
   ],
   "source": [
    "2**7 # -128 to 127"
   ]
  },
  {
   "cell_type": "code",
   "execution_count": 41,
   "id": "9f39bdff",
   "metadata": {},
   "outputs": [],
   "source": [
    "a = np.array([1, 230, 258, 130, 128, -128], dtype=np.int8)"
   ]
  },
  {
   "cell_type": "code",
   "execution_count": 42,
   "id": "45f55fb6",
   "metadata": {},
   "outputs": [
    {
     "name": "stdout",
     "output_type": "stream",
     "text": [
      "[   1  -26    2 -126 -128 -128]\n"
     ]
    }
   ],
   "source": [
    "print(a)"
   ]
  },
  {
   "cell_type": "code",
   "execution_count": 46,
   "id": "46908416",
   "metadata": {},
   "outputs": [
    {
     "name": "stdout",
     "output_type": "stream",
     "text": [
      "[  1 230   2 130 128 244]\n"
     ]
    }
   ],
   "source": [
    "a = np.array([1, 230, 258, 130, 128, -12], dtype=np.uint8)\n",
    "print(a)"
   ]
  },
  {
   "cell_type": "markdown",
   "id": "10fe0208",
   "metadata": {},
   "source": [
    "    image \n",
    "    \n",
    "        pixel -> intensity \n",
    "        \n",
    "            float 0 to 1  -> 0 mean off 1 full capsity on\n",
    "            \n",
    "            int  0 to 255 -> 0 mean off 255 full capsity on "
   ]
  },
  {
   "cell_type": "code",
   "execution_count": 47,
   "id": "3374f2e4",
   "metadata": {},
   "outputs": [],
   "source": [
    "img = np.array([1, 4, 255, 254], dtype=np.uint8)"
   ]
  },
  {
   "cell_type": "code",
   "execution_count": 48,
   "id": "4cbb83c9",
   "metadata": {},
   "outputs": [
    {
     "name": "stdout",
     "output_type": "stream",
     "text": [
      "[  1   4 255 254]\n"
     ]
    }
   ],
   "source": [
    "print(img)"
   ]
  },
  {
   "cell_type": "markdown",
   "id": "58b13ca8",
   "metadata": {},
   "source": [
    "### ??"
   ]
  },
  {
   "cell_type": "code",
   "execution_count": 49,
   "id": "299dea1e",
   "metadata": {},
   "outputs": [],
   "source": [
    "arr = np.array([10, 20, 30, 50, 20, 30, 10])"
   ]
  },
  {
   "cell_type": "code",
   "execution_count": 50,
   "id": "1dc47c2c",
   "metadata": {},
   "outputs": [
    {
     "data": {
      "text/plain": [
       "dtype('int32')"
      ]
     },
     "execution_count": 50,
     "metadata": {},
     "output_type": "execute_result"
    }
   ],
   "source": [
    "arr.dtype"
   ]
  },
  {
   "cell_type": "code",
   "execution_count": 51,
   "id": "53c8adc3",
   "metadata": {},
   "outputs": [],
   "source": [
    "arr1 = arr.astype(np.int8)"
   ]
  },
  {
   "cell_type": "code",
   "execution_count": 52,
   "id": "b81e8f7c",
   "metadata": {},
   "outputs": [
    {
     "data": {
      "text/plain": [
       "dtype('int8')"
      ]
     },
     "execution_count": 52,
     "metadata": {},
     "output_type": "execute_result"
    }
   ],
   "source": [
    "arr1.dtype"
   ]
  },
  {
   "cell_type": "code",
   "execution_count": 53,
   "id": "1fb09995",
   "metadata": {},
   "outputs": [
    {
     "name": "stdout",
     "output_type": "stream",
     "text": [
      "[10 20 30 50 20 30 10]\n",
      "[10 20 30 50 20 30 10]\n"
     ]
    }
   ],
   "source": [
    "print(arr1)\n",
    "print(arr)"
   ]
  },
  {
   "cell_type": "markdown",
   "id": "17421d39",
   "metadata": {},
   "source": [
    "### 2 D"
   ]
  },
  {
   "cell_type": "code",
   "execution_count": 54,
   "id": "a8766cd8",
   "metadata": {},
   "outputs": [],
   "source": [
    "# height, weight, salary, age\n",
    "# each row represents an observation\n",
    "\n",
    "info = [\n",
    "    [160, 60, 20, 35],\n",
    "    [180.2, 55.55, 35, 25],\n",
    "    [152.0, 60, 23, 16]\n",
    "]"
   ]
  },
  {
   "cell_type": "code",
   "execution_count": 61,
   "id": "6e55c711",
   "metadata": {},
   "outputs": [
    {
     "name": "stdout",
     "output_type": "stream",
     "text": [
      "[[160.    60.    20.    35.  ]\n",
      " [180.2   55.55  35.    25.  ]\n",
      " [152.    60.    23.    16.  ]]\n",
      "float64\n",
      "12\n",
      "(3, 4)\n"
     ]
    }
   ],
   "source": [
    "arr = np.array(info)\n",
    "print(arr)\n",
    "print(arr.dtype)\n",
    "print(arr.size)\n",
    "print(arr.shape)"
   ]
  },
  {
   "cell_type": "code",
   "execution_count": 62,
   "id": "622c7048",
   "metadata": {},
   "outputs": [
    {
     "data": {
      "text/plain": [
       "[[160, 60, 20, 35], [180.2, 55.55, 35, 25], [152.0, 60, 23, 16]]"
      ]
     },
     "execution_count": 62,
     "metadata": {},
     "output_type": "execute_result"
    }
   ],
   "source": [
    "info"
   ]
  },
  {
   "cell_type": "markdown",
   "id": "fc49c5ec",
   "metadata": {},
   "source": [
    "# 3 D Array\n",
    "\n",
    "    collection of 2D arrays"
   ]
  },
  {
   "cell_type": "markdown",
   "id": "c541db5a",
   "metadata": {},
   "source": [
    "## 3D arrays"
   ]
  },
  {
   "cell_type": "code",
   "execution_count": 65,
   "id": "1c8615a6",
   "metadata": {},
   "outputs": [],
   "source": [
    "lst = [\n",
    "    [ \n",
    "        [10, 5, 15, 50],\n",
    "        [45, 34, 20, 60],\n",
    "        \n",
    "    ], #jaipur\n",
    "    [\n",
    "        [5, 50, 60, 10],\n",
    "        [10, 20, 15, 30]\n",
    "    ],# delhi\n",
    "    [\n",
    "        [4, 5, 6, 10],\n",
    "        [10, 3, 7, 15]\n",
    "    ]# kanpur\n",
    "]"
   ]
  },
  {
   "cell_type": "code",
   "execution_count": 66,
   "id": "ea80fb3c",
   "metadata": {},
   "outputs": [],
   "source": [
    "student = np.array(lst)"
   ]
  },
  {
   "cell_type": "markdown",
   "id": "66e0a0fb",
   "metadata": {},
   "source": [
    "    (9,)\n",
    "\n",
    "    (4, 5)\n",
    "\n",
    "    (6, 3, 4)"
   ]
  },
  {
   "cell_type": "code",
   "execution_count": null,
   "id": "db232b37",
   "metadata": {},
   "outputs": [],
   "source": []
  },
  {
   "cell_type": "code",
   "execution_count": 69,
   "id": "d22a4fc3",
   "metadata": {},
   "outputs": [
    {
     "name": "stdout",
     "output_type": "stream",
     "text": [
      "[[[10  5 15 50]\n",
      "  [45 34 20 60]]\n",
      "\n",
      " [[ 5 50 60 10]\n",
      "  [10 20 15 30]]\n",
      "\n",
      " [[ 4  5  6 10]\n",
      "  [10  3  7 15]]]\n",
      "3\n",
      "(3, 2, 4)\n"
     ]
    }
   ],
   "source": [
    "print(student)\n",
    "print(student.ndim)\n",
    "print(student.shape)"
   ]
  },
  {
   "cell_type": "markdown",
   "id": "3abbf007",
   "metadata": {},
   "source": [
    "    jaipur\n",
    "                jan   feb   march  april\n",
    "        linux   10     5     15      50\n",
    "        python  \n",
    "        ml\n",
    "        ds\n",
    "        ...\n",
    "    \n",
    "    \n",
    "    delhi\n",
    "    \n",
    "        linux\n",
    "        python\n",
    "        ml\n",
    "        ds\n",
    "        ...\n",
    "    \n",
    "    kanpur\n",
    "    \n",
    "        linux\n",
    "        python\n",
    "        ml\n",
    "        ds\n",
    "        ..."
   ]
  },
  {
   "cell_type": "markdown",
   "id": "1ac5b0bb",
   "metadata": {},
   "source": [
    "#### arrays operations"
   ]
  },
  {
   "cell_type": "code",
   "execution_count": 70,
   "id": "5dc0a201",
   "metadata": {},
   "outputs": [],
   "source": [
    "price = np.array([40000, 50000, 35000])\n",
    "qt    = np.array([10, 3, 5])\n",
    "\n"
   ]
  },
  {
   "cell_type": "code",
   "execution_count": 72,
   "id": "5c54bdee",
   "metadata": {},
   "outputs": [
    {
     "data": {
      "text/plain": [
       "array([400000, 150000, 175000])"
      ]
     },
     "execution_count": 72,
     "metadata": {},
     "output_type": "execute_result"
    }
   ],
   "source": [
    "price * qt # element wise / shape should same"
   ]
  },
  {
   "cell_type": "code",
   "execution_count": 73,
   "id": "f92275bd",
   "metadata": {},
   "outputs": [],
   "source": [
    "arr = np.array([ 10, 30, 40, 5, -10])"
   ]
  },
  {
   "cell_type": "code",
   "execution_count": 74,
   "id": "ecc72d50",
   "metadata": {},
   "outputs": [
    {
     "data": {
      "text/plain": [
       "array([15, 35, 45, 10, -5])"
      ]
     },
     "execution_count": 74,
     "metadata": {},
     "output_type": "execute_result"
    }
   ],
   "source": [
    "arr + 5"
   ]
  },
  {
   "cell_type": "code",
   "execution_count": 75,
   "id": "97456e29",
   "metadata": {},
   "outputs": [
    {
     "data": {
      "text/plain": [
       "array([20, 40, 50, 15,  0])"
      ]
     },
     "execution_count": 75,
     "metadata": {},
     "output_type": "execute_result"
    }
   ],
   "source": [
    "arr + 10"
   ]
  },
  {
   "cell_type": "code",
   "execution_count": 76,
   "id": "5fe7f998",
   "metadata": {},
   "outputs": [
    {
     "data": {
      "text/plain": [
       "array([ 100,  300,  400,   50, -100])"
      ]
     },
     "execution_count": 76,
     "metadata": {},
     "output_type": "execute_result"
    }
   ],
   "source": [
    "arr * 10"
   ]
  },
  {
   "cell_type": "code",
   "execution_count": 77,
   "id": "278ec1ab",
   "metadata": {},
   "outputs": [
    {
     "data": {
      "text/plain": [
       "array([  1,   2,   3,   4,   5,   6,   7,   8,   9,  10,  11,  12,  13,\n",
       "        14,  15,  16,  17,  18,  19,  20,  21,  22,  23,  24,  25,  26,\n",
       "        27,  28,  29,  30,  31,  32,  33,  34,  35,  36,  37,  38,  39,\n",
       "        40,  41,  42,  43,  44,  45,  46,  47,  48,  49,  50,  51,  52,\n",
       "        53,  54,  55,  56,  57,  58,  59,  60,  61,  62,  63,  64,  65,\n",
       "        66,  67,  68,  69,  70,  71,  72,  73,  74,  75,  76,  77,  78,\n",
       "        79,  80,  81,  82,  83,  84,  85,  86,  87,  88,  89,  90,  91,\n",
       "        92,  93,  94,  95,  96,  97,  98,  99, 100])"
      ]
     },
     "execution_count": 77,
     "metadata": {},
     "output_type": "execute_result"
    }
   ],
   "source": [
    "np.array(range(1, 101))"
   ]
  },
  {
   "cell_type": "code",
   "execution_count": 78,
   "id": "8596e2a9",
   "metadata": {},
   "outputs": [
    {
     "data": {
      "text/plain": [
       "array([ 1,  3,  5,  7,  9, 11, 13, 15, 17, 19])"
      ]
     },
     "execution_count": 78,
     "metadata": {},
     "output_type": "execute_result"
    }
   ],
   "source": [
    "np.arange(1, 21, 2)"
   ]
  },
  {
   "cell_type": "code",
   "execution_count": 79,
   "id": "d4ab13d4",
   "metadata": {},
   "outputs": [
    {
     "data": {
      "text/plain": [
       "array([10,  9,  8,  7,  6,  5,  4,  3,  2,  1])"
      ]
     },
     "execution_count": 79,
     "metadata": {},
     "output_type": "execute_result"
    }
   ],
   "source": [
    "np.arange(10, 0, -1)"
   ]
  },
  {
   "cell_type": "code",
   "execution_count": 81,
   "id": "f4b606ec",
   "metadata": {},
   "outputs": [
    {
     "data": {
      "text/plain": [
       "array([0. , 0.1, 0.2, 0.3, 0.4, 0.5, 0.6, 0.7, 0.8, 0.9, 1. ])"
      ]
     },
     "execution_count": 81,
     "metadata": {},
     "output_type": "execute_result"
    }
   ],
   "source": [
    "np.arange(0, 1.1, .1)"
   ]
  },
  {
   "cell_type": "code",
   "execution_count": 82,
   "id": "562bcc93",
   "metadata": {},
   "outputs": [
    {
     "name": "stdout",
     "output_type": "stream",
     "text": [
      "[  0  15  30  45  60  75  90 105 120 135 150 165 180 195 210 225 240 255\n",
      " 270 285 300 315 330 345]\n"
     ]
    }
   ],
   "source": [
    "angles = np.arange(0, 360, 15)\n",
    "print(angles)"
   ]
  },
  {
   "cell_type": "code",
   "execution_count": 85,
   "id": "2723df04",
   "metadata": {},
   "outputs": [],
   "source": [
    "v = np.arange(10, -0.5, -0.5)"
   ]
  },
  {
   "cell_type": "code",
   "execution_count": 86,
   "id": "1d48e5d8",
   "metadata": {},
   "outputs": [
    {
     "name": "stdout",
     "output_type": "stream",
     "text": [
      "[10.   9.5  9.   8.5  8.   7.5  7.   6.5  6.   5.5  5.   4.5  4.   3.5\n",
      "  3.   2.5  2.   1.5  1.   0.5  0. ]\n"
     ]
    }
   ],
   "source": [
    "print(v)"
   ]
  },
  {
   "cell_type": "code",
   "execution_count": 104,
   "id": "2a18ea70",
   "metadata": {},
   "outputs": [],
   "source": [
    "a = np.linspace(0.1, 10, 100) # linearly spacced variable"
   ]
  },
  {
   "cell_type": "code",
   "execution_count": 106,
   "id": "45bf56f4",
   "metadata": {},
   "outputs": [
    {
     "data": {
      "text/plain": [
       "1"
      ]
     },
     "execution_count": 106,
     "metadata": {},
     "output_type": "execute_result"
    }
   ],
   "source": [
    "a.ndim"
   ]
  },
  {
   "cell_type": "code",
   "execution_count": 107,
   "id": "a446a7aa",
   "metadata": {},
   "outputs": [
    {
     "data": {
      "text/plain": [
       "(100,)"
      ]
     },
     "execution_count": 107,
     "metadata": {},
     "output_type": "execute_result"
    }
   ],
   "source": [
    "a.shape"
   ]
  },
  {
   "cell_type": "code",
   "execution_count": 108,
   "id": "cc762876",
   "metadata": {},
   "outputs": [
    {
     "name": "stdout",
     "output_type": "stream",
     "text": [
      "[[ 0.1  0.2  0.3  0.4  0.5  0.6  0.7  0.8  0.9  1. ]\n",
      " [ 1.1  1.2  1.3  1.4  1.5  1.6  1.7  1.8  1.9  2. ]\n",
      " [ 2.1  2.2  2.3  2.4  2.5  2.6  2.7  2.8  2.9  3. ]\n",
      " [ 3.1  3.2  3.3  3.4  3.5  3.6  3.7  3.8  3.9  4. ]\n",
      " [ 4.1  4.2  4.3  4.4  4.5  4.6  4.7  4.8  4.9  5. ]\n",
      " [ 5.1  5.2  5.3  5.4  5.5  5.6  5.7  5.8  5.9  6. ]\n",
      " [ 6.1  6.2  6.3  6.4  6.5  6.6  6.7  6.8  6.9  7. ]\n",
      " [ 7.1  7.2  7.3  7.4  7.5  7.6  7.7  7.8  7.9  8. ]\n",
      " [ 8.1  8.2  8.3  8.4  8.5  8.6  8.7  8.8  8.9  9. ]\n",
      " [ 9.1  9.2  9.3  9.4  9.5  9.6  9.7  9.8  9.9 10. ]]\n"
     ]
    }
   ],
   "source": [
    "b = a.reshape(10, 10)\n",
    "print(b)"
   ]
  },
  {
   "cell_type": "code",
   "execution_count": 110,
   "id": "76ddd40a",
   "metadata": {},
   "outputs": [
    {
     "name": "stdout",
     "output_type": "stream",
     "text": [
      "[[[ 0.1  0.2  0.3  0.4  0.5  0.6  0.7  0.8  0.9  1. ]\n",
      "  [ 1.1  1.2  1.3  1.4  1.5  1.6  1.7  1.8  1.9  2. ]\n",
      "  [ 2.1  2.2  2.3  2.4  2.5  2.6  2.7  2.8  2.9  3. ]\n",
      "  [ 3.1  3.2  3.3  3.4  3.5  3.6  3.7  3.8  3.9  4. ]\n",
      "  [ 4.1  4.2  4.3  4.4  4.5  4.6  4.7  4.8  4.9  5. ]]\n",
      "\n",
      " [[ 5.1  5.2  5.3  5.4  5.5  5.6  5.7  5.8  5.9  6. ]\n",
      "  [ 6.1  6.2  6.3  6.4  6.5  6.6  6.7  6.8  6.9  7. ]\n",
      "  [ 7.1  7.2  7.3  7.4  7.5  7.6  7.7  7.8  7.9  8. ]\n",
      "  [ 8.1  8.2  8.3  8.4  8.5  8.6  8.7  8.8  8.9  9. ]\n",
      "  [ 9.1  9.2  9.3  9.4  9.5  9.6  9.7  9.8  9.9 10. ]]]\n"
     ]
    }
   ],
   "source": [
    "c = a.reshape(2, 5, 10)\n",
    "print(c)"
   ]
  },
  {
   "cell_type": "markdown",
   "id": "8d4fccad",
   "metadata": {},
   "source": [
    "### Random\n",
    "\n",
    "    by default uniform "
   ]
  },
  {
   "cell_type": "code",
   "execution_count": 112,
   "id": "0f0ae15b",
   "metadata": {},
   "outputs": [
    {
     "data": {
      "text/plain": [
       "array([[23, 38, 26, 43, 32],\n",
       "       [49, 12, 20, 27, 25],\n",
       "       [35, 14, 36, 45, 12],\n",
       "       [23, 39, 40, 41, 24],\n",
       "       [44, 29, 15, 19, 28]])"
      ]
     },
     "execution_count": 112,
     "metadata": {},
     "output_type": "execute_result"
    }
   ],
   "source": [
    "arr = np.random.randint(10, 50, 25).reshape(5,5)\n",
    "arr"
   ]
  },
  {
   "cell_type": "code",
   "execution_count": 113,
   "id": "3f45c3f8",
   "metadata": {},
   "outputs": [],
   "source": [
    "arr = np.random.normal(0, 1, 10000) # mean=0, std=1 bell shape -> standard normal distribution"
   ]
  },
  {
   "cell_type": "code",
   "execution_count": 114,
   "id": "fc601e5c",
   "metadata": {},
   "outputs": [],
   "source": [
    "import matplotlib.pyplot as plt"
   ]
  },
  {
   "cell_type": "code",
   "execution_count": 116,
   "id": "9d152e53",
   "metadata": {},
   "outputs": [
    {
     "data": {
      "image/png": "[encoded data removed]",
      "text/plain": [
       "<Figure size 432x288 with 1 Axes>"
      ]
     },
     "metadata": {
      "needs_background": "light"
     },
     "output_type": "display_data"
    }
   ],
   "source": [
    "plt.hist(arr, histtype='step', bins=100)\n",
    "plt.show()"
   ]
  },
  {
   "cell_type": "code",
   "execution_count": 117,
   "id": "980b5a4b",
   "metadata": {},
   "outputs": [
    {
     "data": {
      "image/png": "[encoded data removed]",
      "text/plain": [
       "<Figure size 432x288 with 1 Axes>"
      ]
     },
     "metadata": {
      "needs_background": "light"
     },
     "output_type": "display_data"
    }
   ],
   "source": [
    "import seaborn as sns\n",
    "sns.kdeplot(arr)\n",
    "plt.show()"
   ]
  },
  {
   "cell_type": "markdown",
   "id": "6d411637",
   "metadata": {},
   "source": [
    "##### statistical function\n",
    "\n",
    "#### indexing & slicing"
   ]
  },
  {
   "cell_type": "code",
   "execution_count": 118,
   "id": "f927bf52",
   "metadata": {},
   "outputs": [
    {
     "data": {
      "text/plain": [
       "array([0.39797501, 1.30220478, 0.15660192, ..., 0.39036549, 1.006518  ,\n",
       "       1.10587331])"
      ]
     },
     "execution_count": 118,
     "metadata": {},
     "output_type": "execute_result"
    }
   ],
   "source": [
    "arr"
   ]
  },
  {
   "cell_type": "code",
   "execution_count": 119,
   "id": "6314d5f0",
   "metadata": {},
   "outputs": [
    {
     "data": {
      "text/plain": [
       "array([[18, 39, 45, 13, 25],\n",
       "       [31, 13, 45, 47, 36],\n",
       "       [10, 23, 28, 22, 15],\n",
       "       [33, 39, 16, 24, 22],\n",
       "       [22, 38, 11, 37, 48]])"
      ]
     },
     "execution_count": 119,
     "metadata": {},
     "output_type": "execute_result"
    }
   ],
   "source": [
    "arr = np.random.randint(10, 50, 25).reshape(5,5)\n",
    "arr"
   ]
  },
  {
   "cell_type": "code",
   "execution_count": 120,
   "id": "8b1fa5cc",
   "metadata": {},
   "outputs": [
    {
     "data": {
      "text/plain": [
       "28.0"
      ]
     },
     "execution_count": 120,
     "metadata": {},
     "output_type": "execute_result"
    }
   ],
   "source": [
    "arr.mean()"
   ]
  },
  {
   "cell_type": "code",
   "execution_count": 121,
   "id": "b02606af",
   "metadata": {},
   "outputs": [
    {
     "data": {
      "text/plain": [
       "11.822013364905319"
      ]
     },
     "execution_count": 121,
     "metadata": {},
     "output_type": "execute_result"
    }
   ],
   "source": [
    "arr.std()"
   ]
  },
  {
   "cell_type": "code",
   "execution_count": 122,
   "id": "2666a948",
   "metadata": {},
   "outputs": [
    {
     "data": {
      "text/plain": [
       "10"
      ]
     },
     "execution_count": 122,
     "metadata": {},
     "output_type": "execute_result"
    }
   ],
   "source": [
    "arr.min()"
   ]
  },
  {
   "cell_type": "code",
   "execution_count": 123,
   "id": "29e95c2f",
   "metadata": {},
   "outputs": [
    {
     "data": {
      "text/plain": [
       "48"
      ]
     },
     "execution_count": 123,
     "metadata": {},
     "output_type": "execute_result"
    }
   ],
   "source": [
    "arr.max()"
   ]
  },
  {
   "cell_type": "code",
   "execution_count": 124,
   "id": "5ff576b5",
   "metadata": {},
   "outputs": [
    {
     "data": {
      "text/plain": [
       "array([18., 25., 38.])"
      ]
     },
     "execution_count": 124,
     "metadata": {},
     "output_type": "execute_result"
    }
   ],
   "source": [
    "np.quantile(arr, [0.25, 0.50, 0.75])"
   ]
  },
  {
   "cell_type": "code",
   "execution_count": 125,
   "id": "1e37624b",
   "metadata": {},
   "outputs": [
    {
     "data": {
      "text/plain": [
       "25.0"
      ]
     },
     "execution_count": 125,
     "metadata": {},
     "output_type": "execute_result"
    }
   ],
   "source": [
    "np.median(arr)"
   ]
  },
  {
   "cell_type": "code",
   "execution_count": 132,
   "id": "65331b3f",
   "metadata": {},
   "outputs": [
    {
     "data": {
      "text/plain": [
       "25"
      ]
     },
     "execution_count": 132,
     "metadata": {},
     "output_type": "execute_result"
    }
   ],
   "source": [
    "len(np.arange(0, 361, 15))"
   ]
  },
  {
   "cell_type": "code",
   "execution_count": 140,
   "id": "3d4a309a",
   "metadata": {},
   "outputs": [
    {
     "data": {
      "image/png": "[encoded data removed]",
      "text/plain": [
       "<Figure size 2400x1000 with 1 Axes>"
      ]
     },
     "metadata": {
      "needs_background": "light"
     },
     "output_type": "display_data"
    }
   ],
   "source": [
    "\n",
    "arr = np.linspace(0, 2*np.pi, 120)\n",
    "s = np.sin(arr)\n",
    "c = np.cos(arr)\n",
    "plt.figure(dpi=200, figsize=(12, 5))\n",
    "plt.plot(arr, s, '--ro', label='sin')\n",
    "plt.plot(arr, c, ':gs', label='cos')\n",
    "ticks = np.linspace(0, 2*np.pi, 25)\n",
    "angls = np.arange(0, 361, 15)\n",
    "plt.xticks(ticks, angls)\n",
    "plt.grid()\n",
    "plt.legend()\n",
    "plt.show()"
   ]
  },
  {
   "cell_type": "code",
   "execution_count": null,
   "id": "476ed854",
   "metadata": {},
   "outputs": [],
   "source": []
  }
 ],
 "metadata": {
  "kernelspec": {
   "display_name": "Python 3",
   "language": "python",
   "name": "python3"
  },
  "language_info": {
   "codemirror_mode": {
    "name": "ipython",
    "version": 3
   },
   "file_extension": ".py",
   "mimetype": "text/x-python",
   "name": "python",
   "nbconvert_exporter": "python",
   "pygments_lexer": "ipython3",
   "version": "3.8.8"
  }
 },
 "nbformat": 4,
 "nbformat_minor": 5
}
