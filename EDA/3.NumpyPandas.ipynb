{
 "cells": [
  {
   "cell_type": "markdown",
   "id": "c3ec2767",
   "metadata": {},
   "source": [
    "### Numpy\n",
    "\n",
    "    Numerical Python\n",
    "\n",
    "    effiecient data structures by wich you can manipluate vectors, matrices or tensors\n",
    "    also it has many statistical functions inbuilt\n",
    "    fast and powerfull\n",
    "    "
   ]
  },
  {
   "cell_type": "markdown",
   "id": "dc415c0c",
   "metadata": {},
   "source": [
    "##### Index & Slicing"
   ]
  },
  {
   "cell_type": "code",
   "execution_count": 1,
   "id": "e589c5df",
   "metadata": {},
   "outputs": [],
   "source": [
    "import numpy as np\n",
    "import matplotlib.pyplot as plt\n",
    "import seaborn as sns"
   ]
  },
  {
   "cell_type": "code",
   "execution_count": 2,
   "id": "0d445019",
   "metadata": {},
   "outputs": [],
   "source": [
    "arr = np.random.randint(10, 50, 20)"
   ]
  },
  {
   "cell_type": "code",
   "execution_count": 3,
   "id": "4df77f63",
   "metadata": {},
   "outputs": [
    {
     "name": "stdout",
     "output_type": "stream",
     "text": [
      "[32 14 43 47 19 40 28 44 27 12 16 39 26 28 31 31 24 24 25 34]\n"
     ]
    }
   ],
   "source": [
    "print(arr)"
   ]
  },
  {
   "cell_type": "code",
   "execution_count": 14,
   "id": "a28a8058",
   "metadata": {},
   "outputs": [
    {
     "data": {
      "text/plain": [
       "array([34, 25, 24, 24, 31, 31, 28, 26, 39, 16, 12, 27, 44, 28, 40, 19, 47,\n",
       "       43, 14, 32])"
      ]
     },
     "execution_count": 14,
     "metadata": {},
     "output_type": "execute_result"
    }
   ],
   "source": [
    "arr[::-1]"
   ]
  },
  {
   "cell_type": "code",
   "execution_count": 13,
   "id": "116bf73b",
   "metadata": {},
   "outputs": [
    {
     "data": {
      "text/plain": [
       "array([34, 24, 31, 28, 39, 12, 44, 40, 47, 14])"
      ]
     },
     "execution_count": 13,
     "metadata": {},
     "output_type": "execute_result"
    }
   ],
   "source": [
    "arr[::-2]"
   ]
  },
  {
   "cell_type": "code",
   "execution_count": 12,
   "id": "1676304d",
   "metadata": {},
   "outputs": [
    {
     "data": {
      "text/plain": [
       "array([32, 43, 19, 28, 27, 16, 26, 31, 24, 25])"
      ]
     },
     "execution_count": 12,
     "metadata": {},
     "output_type": "execute_result"
    }
   ],
   "source": [
    "arr[::2]"
   ]
  },
  {
   "cell_type": "code",
   "execution_count": 11,
   "id": "f3c2a21b",
   "metadata": {},
   "outputs": [
    {
     "data": {
      "text/plain": [
       "array([16, 39, 26, 28, 31])"
      ]
     },
     "execution_count": 11,
     "metadata": {},
     "output_type": "execute_result"
    }
   ],
   "source": [
    "arr[10:15]"
   ]
  },
  {
   "cell_type": "code",
   "execution_count": 8,
   "id": "2c819975",
   "metadata": {},
   "outputs": [
    {
     "data": {
      "text/plain": [
       "31"
      ]
     },
     "execution_count": 8,
     "metadata": {},
     "output_type": "execute_result"
    }
   ],
   "source": [
    "arr[-5]"
   ]
  },
  {
   "cell_type": "code",
   "execution_count": 9,
   "id": "e3d44371",
   "metadata": {},
   "outputs": [
    {
     "data": {
      "text/plain": [
       "array([32, 14, 43, 47, 19])"
      ]
     },
     "execution_count": 9,
     "metadata": {},
     "output_type": "execute_result"
    }
   ],
   "source": [
    "arr[:5]"
   ]
  },
  {
   "cell_type": "code",
   "execution_count": 10,
   "id": "288a8c17",
   "metadata": {},
   "outputs": [
    {
     "data": {
      "text/plain": [
       "array([31, 24, 24, 25, 34])"
      ]
     },
     "execution_count": 10,
     "metadata": {},
     "output_type": "execute_result"
    }
   ],
   "source": [
    "arr[-5:]"
   ]
  },
  {
   "cell_type": "code",
   "execution_count": 15,
   "id": "200499b3",
   "metadata": {},
   "outputs": [],
   "source": [
    "data = [\n",
    "    [50, 30, 20, 10],\n",
    "    [40, 30, 60, 70],\n",
    "    [10, 5, 3, 10],\n",
    "    [10, 56, 87, 90]\n",
    "]"
   ]
  },
  {
   "cell_type": "code",
   "execution_count": 18,
   "id": "d4984fb5",
   "metadata": {},
   "outputs": [
    {
     "data": {
      "text/plain": [
       "3"
      ]
     },
     "execution_count": 18,
     "metadata": {},
     "output_type": "execute_result"
    }
   ],
   "source": [
    "data[2][2]"
   ]
  },
  {
   "cell_type": "code",
   "execution_count": 19,
   "id": "f58fd3ff",
   "metadata": {},
   "outputs": [],
   "source": [
    "arr = np.array(data, dtype=np.uint8)"
   ]
  },
  {
   "cell_type": "code",
   "execution_count": 20,
   "id": "099c6fe6",
   "metadata": {},
   "outputs": [
    {
     "data": {
      "text/plain": [
       "array([[50, 30, 20, 10],\n",
       "       [40, 30, 60, 70],\n",
       "       [10,  5,  3, 10],\n",
       "       [10, 56, 87, 90]], dtype=uint8)"
      ]
     },
     "execution_count": 20,
     "metadata": {},
     "output_type": "execute_result"
    }
   ],
   "source": [
    "arr"
   ]
  },
  {
   "cell_type": "markdown",
   "id": "1c433f8c",
   "metadata": {},
   "source": [
    "    axis-0 selection by column\n",
    "    axis-1 selection by rows"
   ]
  },
  {
   "cell_type": "markdown",
   "id": "c83fab10",
   "metadata": {},
   "source": [
    "2D indexing\n",
    "\n",
    "    arr[axis-0, axis-1]"
   ]
  },
  {
   "cell_type": "code",
   "execution_count": 22,
   "id": "8e0cfe81",
   "metadata": {},
   "outputs": [
    {
     "data": {
      "text/plain": [
       "array([[50, 30, 20, 10],\n",
       "       [40, 30, 60, 70],\n",
       "       [10,  5,  3, 10],\n",
       "       [10, 56, 87, 90]], dtype=uint8)"
      ]
     },
     "execution_count": 22,
     "metadata": {},
     "output_type": "execute_result"
    }
   ],
   "source": [
    "arr"
   ]
  },
  {
   "cell_type": "code",
   "execution_count": 25,
   "id": "5feca50a",
   "metadata": {},
   "outputs": [],
   "source": [
    "arr[1, 2] = 0"
   ]
  },
  {
   "cell_type": "code",
   "execution_count": 26,
   "id": "d0709e00",
   "metadata": {},
   "outputs": [
    {
     "data": {
      "text/plain": [
       "array([[50, 30, 20, 10],\n",
       "       [40, 30,  0, 70],\n",
       "       [10,  5,  3, 10],\n",
       "       [10, 56, 87, 90]], dtype=uint8)"
      ]
     },
     "execution_count": 26,
     "metadata": {},
     "output_type": "execute_result"
    }
   ],
   "source": [
    "arr"
   ]
  },
  {
   "cell_type": "code",
   "execution_count": 27,
   "id": "7f45a5ed",
   "metadata": {},
   "outputs": [
    {
     "data": {
      "text/plain": [
       "array([[50, 30, 20, 10],\n",
       "       [40, 30,  0, 70],\n",
       "       [10,  5,  3, 10],\n",
       "       [10, 56, 87, 90]], dtype=uint8)"
      ]
     },
     "execution_count": 27,
     "metadata": {},
     "output_type": "execute_result"
    }
   ],
   "source": [
    "arr"
   ]
  },
  {
   "cell_type": "code",
   "execution_count": 29,
   "id": "5ebde0b0",
   "metadata": {},
   "outputs": [
    {
     "data": {
      "text/plain": [
       "array([[50, 20],\n",
       "       [10,  3]], dtype=uint8)"
      ]
     },
     "execution_count": 29,
     "metadata": {},
     "output_type": "execute_result"
    }
   ],
   "source": [
    "arr[::2, ::2]"
   ]
  },
  {
   "cell_type": "code",
   "execution_count": 44,
   "id": "81b674cc",
   "metadata": {},
   "outputs": [],
   "source": [
    "a = np.array([10, 40, 30, 60, 10, 9, 20])\n",
    "a[a<=10] += 5"
   ]
  },
  {
   "cell_type": "code",
   "execution_count": 45,
   "id": "04b32fbb",
   "metadata": {},
   "outputs": [
    {
     "data": {
      "text/plain": [
       "array([15, 40, 30, 60, 15, 14, 20])"
      ]
     },
     "execution_count": 45,
     "metadata": {},
     "output_type": "execute_result"
    }
   ],
   "source": [
    "a"
   ]
  },
  {
   "cell_type": "code",
   "execution_count": 30,
   "id": "e9add564",
   "metadata": {},
   "outputs": [],
   "source": [
    "a = np.array([10, 40, 30, 60, 10, 9, 20])\n"
   ]
  },
  {
   "cell_type": "markdown",
   "id": "8de09d14",
   "metadata": {},
   "source": [
    "# Boolean"
   ]
  },
  {
   "cell_type": "code",
   "execution_count": 40,
   "id": "dc86b53d",
   "metadata": {},
   "outputs": [
    {
     "data": {
      "text/plain": [
       "array([10, 10,  9, 20])"
      ]
     },
     "execution_count": 40,
     "metadata": {},
     "output_type": "execute_result"
    }
   ],
   "source": [
    "a[a<=20]"
   ]
  },
  {
   "cell_type": "code",
   "execution_count": 39,
   "id": "cfa3579c",
   "metadata": {},
   "outputs": [
    {
     "data": {
      "text/plain": [
       "array([10, 10])"
      ]
     },
     "execution_count": 39,
     "metadata": {},
     "output_type": "execute_result"
    }
   ],
   "source": [
    "a[a == 10]"
   ]
  },
  {
   "cell_type": "code",
   "execution_count": 42,
   "id": "f0677f2b",
   "metadata": {},
   "outputs": [
    {
     "data": {
      "text/plain": [
       "array([10, 10])"
      ]
     },
     "execution_count": 42,
     "metadata": {},
     "output_type": "execute_result"
    }
   ],
   "source": [
    "a[[True, False, False, False, True, False, False]]"
   ]
  },
  {
   "cell_type": "code",
   "execution_count": 41,
   "id": "76d3a3d1",
   "metadata": {},
   "outputs": [
    {
     "data": {
      "text/plain": [
       "array([60,  9, 40])"
      ]
     },
     "execution_count": 41,
     "metadata": {},
     "output_type": "execute_result"
    }
   ],
   "source": [
    "a[[3, 5, 1]] # ? "
   ]
  },
  {
   "cell_type": "code",
   "execution_count": null,
   "id": "25c147b3",
   "metadata": {},
   "outputs": [],
   "source": []
  },
  {
   "cell_type": "code",
   "execution_count": 35,
   "id": "6d7621d3",
   "metadata": {},
   "outputs": [
    {
     "data": {
      "text/plain": [
       "array([40, 60])"
      ]
     },
     "execution_count": 35,
     "metadata": {},
     "output_type": "execute_result"
    }
   ],
   "source": [
    "a[1:5:2]"
   ]
  },
  {
   "cell_type": "code",
   "execution_count": 46,
   "id": "85b35ba9",
   "metadata": {},
   "outputs": [
    {
     "data": {
      "text/plain": [
       "array([[50, 30, 20, 10],\n",
       "       [40, 30,  0, 70],\n",
       "       [10,  5,  3, 10],\n",
       "       [10, 56, 87, 90]], dtype=uint8)"
      ]
     },
     "execution_count": 46,
     "metadata": {},
     "output_type": "execute_result"
    }
   ],
   "source": [
    "arr"
   ]
  },
  {
   "cell_type": "code",
   "execution_count": 50,
   "id": "b19232ed",
   "metadata": {},
   "outputs": [
    {
     "data": {
      "text/plain": [
       "array([[50, 30, 20, 10],\n",
       "       [10,  5,  3, 10],\n",
       "       [10, 56, 87, 90]], dtype=uint8)"
      ]
     },
     "execution_count": 50,
     "metadata": {},
     "output_type": "execute_result"
    }
   ],
   "source": [
    "arr[[0, 2, 3], ]"
   ]
  },
  {
   "cell_type": "code",
   "execution_count": 51,
   "id": "61a8f1a3",
   "metadata": {},
   "outputs": [
    {
     "data": {
      "text/plain": [
       "array([[False, False,  True,  True],\n",
       "       [False, False,  True, False],\n",
       "       [ True,  True,  True,  True],\n",
       "       [ True, False, False, False]])"
      ]
     },
     "execution_count": 51,
     "metadata": {},
     "output_type": "execute_result"
    }
   ],
   "source": [
    "arr <= 20"
   ]
  },
  {
   "cell_type": "code",
   "execution_count": 52,
   "id": "9d2500e4",
   "metadata": {},
   "outputs": [
    {
     "data": {
      "text/plain": [
       "array([20, 10,  0, 10,  5,  3, 10, 10], dtype=uint8)"
      ]
     },
     "execution_count": 52,
     "metadata": {},
     "output_type": "execute_result"
    }
   ],
   "source": [
    "arr[arr<=20]"
   ]
  },
  {
   "cell_type": "code",
   "execution_count": 95,
   "id": "7aeaf36c",
   "metadata": {},
   "outputs": [],
   "source": [
    "arr = np.random.randint(20, 80, 125).reshape(5, 5, 5)"
   ]
  },
  {
   "cell_type": "code",
   "execution_count": 57,
   "id": "07a6fbaa",
   "metadata": {},
   "outputs": [
    {
     "data": {
      "text/plain": [
       "(5, 5, 5)"
      ]
     },
     "execution_count": 57,
     "metadata": {},
     "output_type": "execute_result"
    }
   ],
   "source": [
    "arr.shape"
   ]
  },
  {
   "cell_type": "code",
   "execution_count": 67,
   "id": "96d80f95",
   "metadata": {},
   "outputs": [
    {
     "data": {
      "text/plain": [
       "array([[[59, 40],\n",
       "        [54, 55],\n",
       "        [25, 26]],\n",
       "\n",
       "       [[43, 66],\n",
       "        [49, 20],\n",
       "        [52, 38]]])"
      ]
     },
     "execution_count": 67,
     "metadata": {},
     "output_type": "execute_result"
    }
   ],
   "source": [
    "arr[::3, ::2, ::3]"
   ]
  },
  {
   "cell_type": "code",
   "execution_count": 74,
   "id": "ec1a6315",
   "metadata": {},
   "outputs": [
    {
     "data": {
      "text/plain": [
       "array([[59, 43, 34, 40, 45],\n",
       "       [32, 23, 76, 25, 65]])"
      ]
     },
     "execution_count": 74,
     "metadata": {},
     "output_type": "execute_result"
    }
   ],
   "source": [
    "arr[[0, 2], [0, 3], :]"
   ]
  },
  {
   "cell_type": "markdown",
   "id": "77c0f01d",
   "metadata": {},
   "source": [
    "### Array Operations"
   ]
  },
  {
   "cell_type": "code",
   "execution_count": 75,
   "id": "c1d6511f",
   "metadata": {},
   "outputs": [],
   "source": [
    "arr1 = np.array([\n",
    "    [1, 2, 3],\n",
    "    [4, 5, 6]\n",
    "])\n",
    "\n",
    "arr2 = np.array([\n",
    "    [3, 2, 1],\n",
    "    [6, 5, 4]\n",
    "])"
   ]
  },
  {
   "cell_type": "markdown",
   "id": "ae25a1e2",
   "metadata": {},
   "source": [
    "$$C_{mxk} = A_{mxn} . B_{nxk}$$"
   ]
  },
  {
   "cell_type": "code",
   "execution_count": 80,
   "id": "870d3e26",
   "metadata": {},
   "outputs": [
    {
     "ename": "ValueError",
     "evalue": "matmul: Input operand 1 has a mismatch in its core dimension 0, with gufunc signature (n?,k),(k,m?)->(n?,m?) (size 2 is different from 3)",
     "output_type": "error",
     "traceback": [
      "\u001b[1;31m---------------------------------------------------------------------------\u001b[0m",
      "\u001b[1;31mValueError\u001b[0m                                Traceback (most recent call last)",
      "\u001b[1;32m<ipython-input-80-6338655de175>\u001b[0m in \u001b[0;36m<module>\u001b[1;34m\u001b[0m\n\u001b[1;32m----> 1\u001b[1;33m \u001b[0marr1\u001b[0m \u001b[1;33m@\u001b[0m \u001b[0marr2\u001b[0m\u001b[1;33m\u001b[0m\u001b[1;33m\u001b[0m\u001b[0m\n\u001b[0m",
      "\u001b[1;31mValueError\u001b[0m: matmul: Input operand 1 has a mismatch in its core dimension 0, with gufunc signature (n?,k),(k,m?)->(n?,m?) (size 2 is different from 3)"
     ]
    }
   ],
   "source": [
    "arr1 @ arr2"
   ]
  },
  {
   "cell_type": "markdown",
   "id": "fd820c82",
   "metadata": {},
   "source": [
    "2, 3  2, 3"
   ]
  },
  {
   "cell_type": "code",
   "execution_count": 79,
   "id": "b124c318",
   "metadata": {},
   "outputs": [
    {
     "data": {
      "text/plain": [
       "array([[ 3,  4,  3],\n",
       "       [24, 25, 24]])"
      ]
     },
     "execution_count": 79,
     "metadata": {},
     "output_type": "execute_result"
    }
   ],
   "source": [
    "arr1 * arr2"
   ]
  },
  {
   "cell_type": "code",
   "execution_count": 82,
   "id": "2105d147",
   "metadata": {},
   "outputs": [],
   "source": [
    "arr1 = np.array([\n",
    "    [1, 2, 3],\n",
    "    [4, 5, 6]\n",
    "]) # 2x3\n",
    "\n",
    "arr2 = np.array([\n",
    "    [3, 2, 1],\n",
    "    [6, 5, 4],\n",
    "    [0, 0, 0]\n",
    "])# 3x3"
   ]
  },
  {
   "cell_type": "code",
   "execution_count": 83,
   "id": "c1aedf14",
   "metadata": {},
   "outputs": [
    {
     "data": {
      "text/plain": [
       "array([[15, 12,  9],\n",
       "       [42, 33, 24]])"
      ]
     },
     "execution_count": 83,
     "metadata": {},
     "output_type": "execute_result"
    }
   ],
   "source": [
    "arr1 @ arr2"
   ]
  },
  {
   "cell_type": "code",
   "execution_count": 85,
   "id": "294b3d03",
   "metadata": {},
   "outputs": [
    {
     "data": {
      "text/plain": [
       "array([[15, 12,  9],\n",
       "       [42, 33, 24]])"
      ]
     },
     "execution_count": 85,
     "metadata": {},
     "output_type": "execute_result"
    }
   ],
   "source": [
    "arr1.dot(arr2) # matrix multiplication"
   ]
  },
  {
   "cell_type": "code",
   "execution_count": 89,
   "id": "e31e5859",
   "metadata": {},
   "outputs": [],
   "source": [
    "# np.linalg.inv() ?"
   ]
  },
  {
   "cell_type": "code",
   "execution_count": 90,
   "id": "abc3a6b4",
   "metadata": {},
   "outputs": [
    {
     "data": {
      "text/plain": [
       "array([[ 0.72222222, -0.22222222,  0.        ],\n",
       "       [-0.11111111,  0.11111111,  0.        ],\n",
       "       [-0.94444444,  0.44444444,  0.        ]])"
      ]
     },
     "execution_count": 90,
     "metadata": {},
     "output_type": "execute_result"
    }
   ],
   "source": [
    "np.linalg.pinv(arr2)"
   ]
  },
  {
   "cell_type": "code",
   "execution_count": 96,
   "id": "9c3f4ceb",
   "metadata": {},
   "outputs": [],
   "source": [
    "arr = arr[0, :, :]"
   ]
  },
  {
   "cell_type": "code",
   "execution_count": 98,
   "id": "fdf3c2f2",
   "metadata": {},
   "outputs": [],
   "source": [
    "arr[arr<=30] = 0"
   ]
  },
  {
   "cell_type": "code",
   "execution_count": 99,
   "id": "272709e7",
   "metadata": {},
   "outputs": [
    {
     "data": {
      "text/plain": [
       "array([[64, 44, 75, 72, 53],\n",
       "       [58, 32, 68, 74, 39],\n",
       "       [39, 39, 57, 40,  0],\n",
       "       [37, 55, 40,  0, 43],\n",
       "       [62, 36, 38, 49,  0]])"
      ]
     },
     "execution_count": 99,
     "metadata": {},
     "output_type": "execute_result"
    }
   ],
   "source": [
    "arr"
   ]
  },
  {
   "cell_type": "code",
   "execution_count": 100,
   "id": "ce216e14",
   "metadata": {},
   "outputs": [
    {
     "data": {
      "text/plain": [
       "array([64, 32, 57,  0,  0])"
      ]
     },
     "execution_count": 100,
     "metadata": {},
     "output_type": "execute_result"
    }
   ],
   "source": [
    "arr.diagonal()"
   ]
  },
  {
   "cell_type": "code",
   "execution_count": 114,
   "id": "d6864378",
   "metadata": {},
   "outputs": [
    {
     "data": {
      "text/plain": [
       "array([64, 32, 57,  0,  0])"
      ]
     },
     "execution_count": 114,
     "metadata": {},
     "output_type": "execute_result"
    }
   ],
   "source": [
    "arr.diagonal()"
   ]
  },
  {
   "cell_type": "code",
   "execution_count": 115,
   "id": "84d9f8a2",
   "metadata": {},
   "outputs": [
    {
     "data": {
      "text/plain": [
       "array([[64, 44, 75, 72, 53],\n",
       "       [58, 32, 68, 74, 39],\n",
       "       [39, 39, 57, 40,  0],\n",
       "       [37, 55, 40,  0, 43],\n",
       "       [62, 36, 38, 49,  0]])"
      ]
     },
     "execution_count": 115,
     "metadata": {},
     "output_type": "execute_result"
    }
   ],
   "source": [
    "arr"
   ]
  },
  {
   "cell_type": "code",
   "execution_count": 116,
   "id": "c7a8d663",
   "metadata": {},
   "outputs": [
    {
     "data": {
      "text/plain": [
       "array([[53, 72, 75, 44, 64],\n",
       "       [39, 74, 68, 32, 58],\n",
       "       [ 0, 40, 57, 39, 39],\n",
       "       [43,  0, 40, 55, 37],\n",
       "       [ 0, 49, 38, 36, 62]])"
      ]
     },
     "execution_count": 116,
     "metadata": {},
     "output_type": "execute_result"
    }
   ],
   "source": [
    "np.fliplr(arr)"
   ]
  },
  {
   "cell_type": "code",
   "execution_count": 117,
   "id": "d08b2e97",
   "metadata": {},
   "outputs": [
    {
     "data": {
      "text/plain": [
       "array([[62, 36, 38, 49,  0],\n",
       "       [37, 55, 40,  0, 43],\n",
       "       [39, 39, 57, 40,  0],\n",
       "       [58, 32, 68, 74, 39],\n",
       "       [64, 44, 75, 72, 53]])"
      ]
     },
     "execution_count": 117,
     "metadata": {},
     "output_type": "execute_result"
    }
   ],
   "source": [
    "np.flipud(arr)"
   ]
  },
  {
   "cell_type": "code",
   "execution_count": 118,
   "id": "fc45ec24",
   "metadata": {},
   "outputs": [
    {
     "data": {
      "text/plain": [
       "array([[64, 44, 75, 72, 53],\n",
       "       [58, 32, 68, 74, 39],\n",
       "       [39, 39, 57, 40,  0],\n",
       "       [37, 55, 40,  0, 43],\n",
       "       [62, 36, 38, 49,  0]])"
      ]
     },
     "execution_count": 118,
     "metadata": {},
     "output_type": "execute_result"
    }
   ],
   "source": [
    "arr"
   ]
  },
  {
   "cell_type": "code",
   "execution_count": 119,
   "id": "4db910ee",
   "metadata": {},
   "outputs": [
    {
     "data": {
      "text/plain": [
       "array([53, 74, 57, 55, 62])"
      ]
     },
     "execution_count": 119,
     "metadata": {},
     "output_type": "execute_result"
    }
   ],
   "source": [
    "np.fliplr(arr).diagonal()"
   ]
  },
  {
   "cell_type": "code",
   "execution_count": 120,
   "id": "b9d524e3",
   "metadata": {},
   "outputs": [
    {
     "data": {
      "text/plain": [
       "array([[64, 44, 75, 72, 53],\n",
       "       [58, 32, 68, 74, 39],\n",
       "       [39, 39, 57, 40,  0],\n",
       "       [37, 55, 40,  0, 43],\n",
       "       [62, 36, 38, 49,  0]])"
      ]
     },
     "execution_count": 120,
     "metadata": {},
     "output_type": "execute_result"
    }
   ],
   "source": [
    "arr"
   ]
  },
  {
   "cell_type": "code",
   "execution_count": 121,
   "id": "10e6402f",
   "metadata": {},
   "outputs": [],
   "source": [
    "np.fill_diagonal(arr, 0)"
   ]
  },
  {
   "cell_type": "code",
   "execution_count": 122,
   "id": "f736a4da",
   "metadata": {},
   "outputs": [
    {
     "data": {
      "text/plain": [
       "array([[ 0, 44, 75, 72, 53],\n",
       "       [58,  0, 68, 74, 39],\n",
       "       [39, 39,  0, 40,  0],\n",
       "       [37, 55, 40,  0, 43],\n",
       "       [62, 36, 38, 49,  0]])"
      ]
     },
     "execution_count": 122,
     "metadata": {},
     "output_type": "execute_result"
    }
   ],
   "source": [
    "arr"
   ]
  },
  {
   "cell_type": "code",
   "execution_count": null,
   "id": "e2354b4e",
   "metadata": {},
   "outputs": [],
   "source": []
  },
  {
   "cell_type": "code",
   "execution_count": 125,
   "id": "4cfa7182",
   "metadata": {},
   "outputs": [
    {
     "data": {
      "text/plain": [
       "array([[ 0, 44, 75, 72, 53],\n",
       "       [58,  0, 68, 74, 39],\n",
       "       [39, 39,  0, 40,  0],\n",
       "       [37, 55, 40,  0, 43],\n",
       "       [62, 36, 38, 49,  0]])"
      ]
     },
     "execution_count": 125,
     "metadata": {},
     "output_type": "execute_result"
    }
   ],
   "source": [
    "arr"
   ]
  },
  {
   "cell_type": "code",
   "execution_count": 127,
   "id": "992ad21b",
   "metadata": {},
   "outputs": [],
   "source": [
    "a = arr.ravel()"
   ]
  },
  {
   "cell_type": "code",
   "execution_count": 128,
   "id": "42f89bad",
   "metadata": {},
   "outputs": [
    {
     "data": {
      "text/plain": [
       "array([ 0, 44, 75, 72, 53, 58,  0, 68, 74, 39, 39, 39,  0, 40,  0, 37, 55,\n",
       "       40,  0, 43, 62, 36, 38, 49,  0])"
      ]
     },
     "execution_count": 128,
     "metadata": {},
     "output_type": "execute_result"
    }
   ],
   "source": [
    "a"
   ]
  },
  {
   "cell_type": "code",
   "execution_count": 129,
   "id": "423b234b",
   "metadata": {},
   "outputs": [],
   "source": [
    "a[:5] = 0"
   ]
  },
  {
   "cell_type": "code",
   "execution_count": 130,
   "id": "dd9b7841",
   "metadata": {},
   "outputs": [
    {
     "data": {
      "text/plain": [
       "array([[ 0,  0,  0,  0,  0],\n",
       "       [58,  0, 68, 74, 39],\n",
       "       [39, 39,  0, 40,  0],\n",
       "       [37, 55, 40,  0, 43],\n",
       "       [62, 36, 38, 49,  0]])"
      ]
     },
     "execution_count": 130,
     "metadata": {},
     "output_type": "execute_result"
    }
   ],
   "source": [
    "arr"
   ]
  },
  {
   "cell_type": "code",
   "execution_count": 131,
   "id": "1fafdd44",
   "metadata": {},
   "outputs": [
    {
     "name": "stdout",
     "output_type": "stream",
     "text": [
      "2281646772352\n"
     ]
    }
   ],
   "source": [
    "print(id(a))"
   ]
  },
  {
   "cell_type": "code",
   "execution_count": 132,
   "id": "77922590",
   "metadata": {},
   "outputs": [
    {
     "name": "stdout",
     "output_type": "stream",
     "text": [
      "2281639277232\n"
     ]
    }
   ],
   "source": [
    "print(id(arr))"
   ]
  },
  {
   "cell_type": "code",
   "execution_count": 134,
   "id": "f949bdca",
   "metadata": {},
   "outputs": [],
   "source": [
    "a = arr.ravel().copy()"
   ]
  },
  {
   "cell_type": "code",
   "execution_count": 136,
   "id": "5d278da4",
   "metadata": {},
   "outputs": [],
   "source": [
    "a[-5:] = 0"
   ]
  },
  {
   "cell_type": "code",
   "execution_count": 137,
   "id": "364b9078",
   "metadata": {},
   "outputs": [
    {
     "data": {
      "text/plain": [
       "array([[ 0,  0,  0,  0,  0],\n",
       "       [58,  0, 68, 74, 39],\n",
       "       [39, 39,  0, 40,  0],\n",
       "       [37, 55, 40,  0, 43],\n",
       "       [62, 36, 38, 49,  0]])"
      ]
     },
     "execution_count": 137,
     "metadata": {},
     "output_type": "execute_result"
    }
   ],
   "source": [
    "arr"
   ]
  },
  {
   "cell_type": "code",
   "execution_count": 138,
   "id": "7fb6a92d",
   "metadata": {},
   "outputs": [
    {
     "data": {
      "text/plain": [
       "array([ 0,  0,  0,  0,  0, 58,  0, 68, 74, 39, 39, 39,  0, 40,  0, 37, 55,\n",
       "       40,  0, 43,  0,  0,  0,  0,  0])"
      ]
     },
     "execution_count": 138,
     "metadata": {},
     "output_type": "execute_result"
    }
   ],
   "source": [
    "a"
   ]
  },
  {
   "cell_type": "code",
   "execution_count": 139,
   "id": "91ff6883",
   "metadata": {},
   "outputs": [],
   "source": [
    "a = arr.flatten()"
   ]
  },
  {
   "cell_type": "code",
   "execution_count": 140,
   "id": "cb7c7167",
   "metadata": {},
   "outputs": [
    {
     "data": {
      "text/plain": [
       "array([ 0,  0,  0,  0,  0, 58,  0, 68, 74, 39, 39, 39,  0, 40,  0, 37, 55,\n",
       "       40,  0, 43, 62, 36, 38, 49,  0])"
      ]
     },
     "execution_count": 140,
     "metadata": {},
     "output_type": "execute_result"
    }
   ],
   "source": [
    "a"
   ]
  },
  {
   "cell_type": "code",
   "execution_count": 141,
   "id": "988feda5",
   "metadata": {},
   "outputs": [],
   "source": [
    "a[:5] = 0"
   ]
  },
  {
   "cell_type": "code",
   "execution_count": 142,
   "id": "2c8bac82",
   "metadata": {},
   "outputs": [
    {
     "data": {
      "text/plain": [
       "array([[ 0,  0,  0,  0,  0],\n",
       "       [58,  0, 68, 74, 39],\n",
       "       [39, 39,  0, 40,  0],\n",
       "       [37, 55, 40,  0, 43],\n",
       "       [62, 36, 38, 49,  0]])"
      ]
     },
     "execution_count": 142,
     "metadata": {},
     "output_type": "execute_result"
    }
   ],
   "source": [
    "arr"
   ]
  },
  {
   "cell_type": "markdown",
   "id": "6e52fbda",
   "metadata": {},
   "source": [
    "**imp**\n",
    "\n",
    "                                    ravel     -> view of array\n",
    "     nd array -> 1D array   \n",
    "                                    flatten   -> copy of array"
   ]
  },
  {
   "cell_type": "markdown",
   "id": "7b919426",
   "metadata": {},
   "source": [
    "#### Broadcasting Rules"
   ]
  },
  {
   "cell_type": "code",
   "execution_count": 145,
   "id": "bd8b9b7d",
   "metadata": {},
   "outputs": [
    {
     "data": {
      "text/plain": [
       "array([[0., 0., 0., 0., 0.],\n",
       "       [0., 0., 0., 0., 0.],\n",
       "       [0., 0., 0., 0., 0.],\n",
       "       [0., 0., 0., 0., 0.]])"
      ]
     },
     "execution_count": 145,
     "metadata": {},
     "output_type": "execute_result"
    }
   ],
   "source": [
    "np.zeros((4, 5)) # homogenos, contigeous [cell1, cell2, ....]"
   ]
  },
  {
   "cell_type": "code",
   "execution_count": 146,
   "id": "3ba4a492",
   "metadata": {},
   "outputs": [
    {
     "data": {
      "text/plain": [
       "array([[1., 1., 1., 1., 1.],\n",
       "       [1., 1., 1., 1., 1.],\n",
       "       [1., 1., 1., 1., 1.],\n",
       "       [1., 1., 1., 1., 1.]])"
      ]
     },
     "execution_count": 146,
     "metadata": {},
     "output_type": "execute_result"
    }
   ],
   "source": [
    "np.ones((4, 5))"
   ]
  },
  {
   "cell_type": "code",
   "execution_count": 148,
   "id": "e50cabdc",
   "metadata": {},
   "outputs": [
    {
     "data": {
      "text/plain": [
       "array([[1., 0., 0., 0., 0., 0., 0., 0., 0., 0.],\n",
       "       [0., 1., 0., 0., 0., 0., 0., 0., 0., 0.],\n",
       "       [0., 0., 1., 0., 0., 0., 0., 0., 0., 0.],\n",
       "       [0., 0., 0., 1., 0., 0., 0., 0., 0., 0.],\n",
       "       [0., 0., 0., 0., 1., 0., 0., 0., 0., 0.],\n",
       "       [0., 0., 0., 0., 0., 1., 0., 0., 0., 0.],\n",
       "       [0., 0., 0., 0., 0., 0., 1., 0., 0., 0.],\n",
       "       [0., 0., 0., 0., 0., 0., 0., 1., 0., 0.],\n",
       "       [0., 0., 0., 0., 0., 0., 0., 0., 1., 0.],\n",
       "       [0., 0., 0., 0., 0., 0., 0., 0., 0., 1.]])"
      ]
     },
     "execution_count": 148,
     "metadata": {},
     "output_type": "execute_result"
    }
   ],
   "source": [
    "np.eye(10)"
   ]
  },
  {
   "cell_type": "markdown",
   "id": "5cc2cc80",
   "metadata": {},
   "source": [
    "    Interview \n",
    "    \n",
    "        infinite"
   ]
  },
  {
   "cell_type": "code",
   "execution_count": 153,
   "id": "e76e8d77",
   "metadata": {},
   "outputs": [
    {
     "data": {
      "text/plain": [
       "23.73046875"
      ]
     },
     "execution_count": 153,
     "metadata": {},
     "output_type": "execute_result"
    }
   ],
   "source": [
    "(((3840 * 2160 * 3)/1024)/1024)"
   ]
  },
  {
   "cell_type": "code",
   "execution_count": 160,
   "id": "e0f8d96e",
   "metadata": {},
   "outputs": [],
   "source": [
    "a = np.empty((10, 30))"
   ]
  },
  {
   "cell_type": "code",
   "execution_count": 161,
   "id": "f4a73bac",
   "metadata": {},
   "outputs": [],
   "source": [
    "a[:3, :] = 0 "
   ]
  },
  {
   "cell_type": "code",
   "execution_count": 188,
   "id": "d1208551",
   "metadata": {},
   "outputs": [],
   "source": [
    "a = np.random.randint(20, 30, 3345*3345).reshape(3345,3345)"
   ]
  },
  {
   "cell_type": "code",
   "execution_count": 189,
   "id": "102708c9",
   "metadata": {},
   "outputs": [
    {
     "data": {
      "text/plain": [
       "array([[24, 25, 26, ..., 21, 26, 27],\n",
       "       [28, 28, 24, ..., 29, 28, 20],\n",
       "       [23, 29, 29, ..., 25, 26, 26],\n",
       "       ...,\n",
       "       [22, 26, 25, ..., 20, 26, 26],\n",
       "       [24, 28, 25, ..., 27, 28, 27],\n",
       "       [23, 27, 23, ..., 25, 29, 27]])"
      ]
     },
     "execution_count": 189,
     "metadata": {},
     "output_type": "execute_result"
    }
   ],
   "source": [
    "a"
   ]
  },
  {
   "cell_type": "code",
   "execution_count": 186,
   "id": "dd7d757a",
   "metadata": {},
   "outputs": [],
   "source": [
    "np.set_printoptions('edgeitems', 3)"
   ]
  },
  {
   "cell_type": "code",
   "execution_count": 180,
   "id": "55d337a4",
   "metadata": {},
   "outputs": [
    {
     "data": {
      "text/plain": [
       "array([[3, 3, 4, ..., 3, 3, 4],\n",
       "       [4, 3, 3, ..., 3, 4, 3],\n",
       "       [3, 3, 2, ..., 3, 4, 3],\n",
       "       ...,\n",
       "       [3, 4, 3, ..., 3, 3, 3],\n",
       "       [3, 3, 3, ..., 2, 3, 3],\n",
       "       [3, 3, 3, ..., 3, 3, 3]], dtype=int32)"
      ]
     },
     "execution_count": 180,
     "metadata": {},
     "output_type": "execute_result"
    }
   ],
   "source": [
    "arr//7"
   ]
  },
  {
   "cell_type": "code",
   "execution_count": 176,
   "id": "881219fb",
   "metadata": {},
   "outputs": [
    {
     "data": {
      "text/plain": [
       "{'edgeitems': 3,\n",
       " 'threshold': 10,\n",
       " 'floatmode': 'maxprec',\n",
       " 'precision': 'edgeitems',\n",
       " 'suppress': False,\n",
       " 'linewidth': 75,\n",
       " 'nanstr': 'nan',\n",
       " 'infstr': 'inf',\n",
       " 'sign': '-',\n",
       " 'formatter': None,\n",
       " 'legacy': False}"
      ]
     },
     "execution_count": 176,
     "metadata": {},
     "output_type": "execute_result"
    }
   ],
   "source": [
    "np.get_printoptions()"
   ]
  },
  {
   "cell_type": "code",
   "execution_count": 2,
   "id": "fc097104",
   "metadata": {},
   "outputs": [],
   "source": [
    "import numpy as np"
   ]
  },
  {
   "cell_type": "code",
   "execution_count": 8,
   "id": "0c319617",
   "metadata": {},
   "outputs": [],
   "source": [
    "arr = np.random.random(10000).reshape(100, 100)"
   ]
  },
  {
   "cell_type": "code",
   "execution_count": 9,
   "id": "0ebbf6a4",
   "metadata": {},
   "outputs": [
    {
     "data": {
      "text/plain": [
       "array([[0.01647277, 0.58233738, 0.84904722, ..., 0.81781744, 0.94687344,\n",
       "        0.61809829],\n",
       "       [0.64876771, 0.42010237, 0.20983472, ..., 0.30954669, 0.51200193,\n",
       "        0.97865883],\n",
       "       [0.97298564, 0.03604179, 0.01818028, ..., 0.88560335, 0.32749271,\n",
       "        0.07198418],\n",
       "       ...,\n",
       "       [0.53072762, 0.79964786, 0.60310625, ..., 0.17328416, 0.73797206,\n",
       "        0.59735298],\n",
       "       [0.59120202, 0.54084079, 0.7319847 , ..., 0.26679217, 0.98262761,\n",
       "        0.40375231],\n",
       "       [0.95670875, 0.49853013, 0.07907428, ..., 0.3741575 , 0.540527  ,\n",
       "        0.69369841]])"
      ]
     },
     "execution_count": 9,
     "metadata": {},
     "output_type": "execute_result"
    }
   ],
   "source": [
    "arr"
   ]
  },
  {
   "cell_type": "code",
   "execution_count": 10,
   "id": "d99f1aea",
   "metadata": {},
   "outputs": [
    {
     "data": {
      "text/plain": [
       "{'edgeitems': 3,\n",
       " 'threshold': 1000,\n",
       " 'floatmode': 'maxprec',\n",
       " 'precision': 8,\n",
       " 'suppress': False,\n",
       " 'linewidth': 75,\n",
       " 'nanstr': 'nan',\n",
       " 'infstr': 'inf',\n",
       " 'sign': '-',\n",
       " 'formatter': None,\n",
       " 'legacy': False}"
      ]
     },
     "execution_count": 10,
     "metadata": {},
     "output_type": "execute_result"
    }
   ],
   "source": [
    " np.get_printoptions()"
   ]
  },
  {
   "cell_type": "code",
   "execution_count": 16,
   "id": "e4c8a9f1",
   "metadata": {},
   "outputs": [],
   "source": [
    "np.set_printoptions(edgeitems=2)"
   ]
  },
  {
   "cell_type": "code",
   "execution_count": 17,
   "id": "8d8c9075",
   "metadata": {},
   "outputs": [],
   "source": [
    "np.set_printoptions(threshold=10)"
   ]
  },
  {
   "cell_type": "code",
   "execution_count": 21,
   "id": "c0da32ba",
   "metadata": {},
   "outputs": [],
   "source": [
    "np.set_printoptions(precision=2)"
   ]
  },
  {
   "cell_type": "code",
   "execution_count": 22,
   "id": "34d4bcdf",
   "metadata": {},
   "outputs": [],
   "source": [
    "arr = np.random.randint(10, 100, 100).reshape(20, 5)"
   ]
  },
  {
   "cell_type": "code",
   "execution_count": 23,
   "id": "17b64a54",
   "metadata": {},
   "outputs": [
    {
     "data": {
      "text/plain": [
       "array([[11.43,  7.71, ...,  6.86, 13.57],\n",
       "       [ 7.29, 10.  , ...,  6.57,  2.71],\n",
       "       ...,\n",
       "       [12.86, 12.43, ...,  1.86,  9.57],\n",
       "       [ 7.57, 13.14, ...,  1.71, 10.29]])"
      ]
     },
     "execution_count": 23,
     "metadata": {},
     "output_type": "execute_result"
    }
   ],
   "source": [
    "arr/7"
   ]
  },
  {
   "cell_type": "code",
   "execution_count": 32,
   "id": "5aca20fe",
   "metadata": {},
   "outputs": [],
   "source": [
    "arr = np.random.randint(1, 10, 25).reshape(5, 5)"
   ]
  },
  {
   "cell_type": "code",
   "execution_count": 33,
   "id": "d3c04cc5",
   "metadata": {},
   "outputs": [],
   "source": [
    "np.set_printoptions(threshold=1000)"
   ]
  },
  {
   "cell_type": "code",
   "execution_count": 34,
   "id": "f9336a86",
   "metadata": {},
   "outputs": [
    {
     "data": {
      "text/plain": [
       "array([[1, 9, 8, 5, 4],\n",
       "       [5, 4, 2, 1, 5],\n",
       "       [8, 3, 2, 8, 3],\n",
       "       [3, 8, 8, 7, 3],\n",
       "       [1, 4, 1, 4, 8]])"
      ]
     },
     "execution_count": 34,
     "metadata": {},
     "output_type": "execute_result"
    }
   ],
   "source": [
    "arr"
   ]
  },
  {
   "cell_type": "code",
   "execution_count": 31,
   "id": "6b3650a8",
   "metadata": {},
   "outputs": [
    {
     "data": {
      "text/plain": [
       "5463"
      ]
     },
     "execution_count": 31,
     "metadata": {},
     "output_type": "execute_result"
    }
   ],
   "source": [
    "arr.sum()"
   ]
  },
  {
   "cell_type": "code",
   "execution_count": 37,
   "id": "29672603",
   "metadata": {},
   "outputs": [
    {
     "data": {
      "text/plain": [
       "array([18, 28, 21, 25, 23])"
      ]
     },
     "execution_count": 37,
     "metadata": {},
     "output_type": "execute_result"
    }
   ],
   "source": [
    "arr.sum(axis=0) # column wise sum"
   ]
  },
  {
   "cell_type": "code",
   "execution_count": 38,
   "id": "b2f9b115",
   "metadata": {},
   "outputs": [
    {
     "data": {
      "text/plain": [
       "array([27, 17, 24, 29, 18])"
      ]
     },
     "execution_count": 38,
     "metadata": {},
     "output_type": "execute_result"
    }
   ],
   "source": [
    "arr.sum(axis=1) # row wise sum"
   ]
  },
  {
   "cell_type": "code",
   "execution_count": 39,
   "id": "78b653e8",
   "metadata": {},
   "outputs": [
    {
     "data": {
      "text/plain": [
       "array([5.4, 3.4, 4.8, 5.8, 3.6])"
      ]
     },
     "execution_count": 39,
     "metadata": {},
     "output_type": "execute_result"
    }
   ],
   "source": [
    "arr.mean(axis=1)"
   ]
  },
  {
   "cell_type": "code",
   "execution_count": 40,
   "id": "1e0b3c4d",
   "metadata": {},
   "outputs": [
    {
     "data": {
      "text/plain": [
       "array([3.6, 5.6, 4.2, 5. , 4.6])"
      ]
     },
     "execution_count": 40,
     "metadata": {},
     "output_type": "execute_result"
    }
   ],
   "source": [
    "arr.mean(axis=0)"
   ]
  },
  {
   "cell_type": "code",
   "execution_count": 41,
   "id": "61a18603",
   "metadata": {},
   "outputs": [
    {
     "data": {
      "text/plain": [
       "array([[1, 9, 8, 5, 4],\n",
       "       [5, 4, 2, 1, 5],\n",
       "       [8, 3, 2, 8, 3],\n",
       "       [3, 8, 8, 7, 3],\n",
       "       [1, 4, 1, 4, 8]])"
      ]
     },
     "execution_count": 41,
     "metadata": {},
     "output_type": "execute_result"
    }
   ],
   "source": [
    "arr"
   ]
  },
  {
   "cell_type": "code",
   "execution_count": 44,
   "id": "6ba3254b",
   "metadata": {},
   "outputs": [
    {
     "name": "stdout",
     "output_type": "stream",
     "text": [
      "[1 9 8 5 4]\n",
      "[5 4 2 1 5]\n",
      "[8 3 2 8 3]\n",
      "[3 8 8 7 3]\n",
      "[1 4 1 4 8]\n"
     ]
    }
   ],
   "source": [
    "for row in arr:\n",
    "    print(row)"
   ]
  },
  {
   "cell_type": "code",
   "execution_count": 45,
   "id": "052e8709",
   "metadata": {},
   "outputs": [
    {
     "name": "stdout",
     "output_type": "stream",
     "text": [
      "1\n",
      "5\n",
      "8\n",
      "3\n",
      "1\n"
     ]
    }
   ],
   "source": [
    "for row in arr:\n",
    "    for col in row:\n",
    "        print(col)\n",
    "        break"
   ]
  },
  {
   "cell_type": "code",
   "execution_count": 46,
   "id": "7ba1b312",
   "metadata": {},
   "outputs": [
    {
     "data": {
      "text/plain": [
       "array([1, 9, 8, 5, 4, 5, 4, 2, 1, 5, 8, 3, 2, 8, 3, 3, 8, 8, 7, 3, 1, 4,\n",
       "       1, 4, 8])"
      ]
     },
     "execution_count": 46,
     "metadata": {},
     "output_type": "execute_result"
    }
   ],
   "source": [
    "arr.flatten()"
   ]
  },
  {
   "cell_type": "code",
   "execution_count": 48,
   "id": "db129a88",
   "metadata": {},
   "outputs": [
    {
     "name": "stdout",
     "output_type": "stream",
     "text": [
      "1, 9, 8, 5, 4, 5, 4, 2, 1, 5, 8, 3, 2, 8, 3, 3, 8, 8, 7, 3, 1, 4, 1, 4, 8, "
     ]
    }
   ],
   "source": [
    "for item in arr.flat:\n",
    "    print(item, end=', ')"
   ]
  },
  {
   "cell_type": "code",
   "execution_count": 49,
   "id": "898f43b1",
   "metadata": {},
   "outputs": [
    {
     "data": {
      "text/plain": [
       "1"
      ]
     },
     "execution_count": 49,
     "metadata": {},
     "output_type": "execute_result"
    }
   ],
   "source": [
    "np.argmax(arr)"
   ]
  },
  {
   "cell_type": "code",
   "execution_count": 53,
   "id": "51f497b8",
   "metadata": {},
   "outputs": [
    {
     "data": {
      "text/plain": [
       "9"
      ]
     },
     "execution_count": 53,
     "metadata": {},
     "output_type": "execute_result"
    }
   ],
   "source": [
    "arr.ravel()[np.argmax(arr)]"
   ]
  },
  {
   "cell_type": "code",
   "execution_count": 50,
   "id": "09fae9cf",
   "metadata": {},
   "outputs": [
    {
     "data": {
      "text/plain": [
       "array([[1, 9, 8, 5, 4],\n",
       "       [5, 4, 2, 1, 5],\n",
       "       [8, 3, 2, 8, 3],\n",
       "       [3, 8, 8, 7, 3],\n",
       "       [1, 4, 1, 4, 8]])"
      ]
     },
     "execution_count": 50,
     "metadata": {},
     "output_type": "execute_result"
    }
   ],
   "source": [
    "arr"
   ]
  },
  {
   "cell_type": "code",
   "execution_count": 54,
   "id": "b022787b",
   "metadata": {},
   "outputs": [
    {
     "data": {
      "text/plain": [
       "9"
      ]
     },
     "execution_count": 54,
     "metadata": {},
     "output_type": "execute_result"
    }
   ],
   "source": [
    "arr.max()"
   ]
  },
  {
   "cell_type": "code",
   "execution_count": 56,
   "id": "c7cfc7d7",
   "metadata": {},
   "outputs": [
    {
     "data": {
      "text/plain": [
       "array([9, 5, 8, 8, 8])"
      ]
     },
     "execution_count": 56,
     "metadata": {},
     "output_type": "execute_result"
    }
   ],
   "source": [
    "arr.max(axis=1)"
   ]
  },
  {
   "cell_type": "code",
   "execution_count": 57,
   "id": "8dfe3c1d",
   "metadata": {},
   "outputs": [
    {
     "data": {
      "text/plain": [
       "array([[1, 9, 8, 5, 4],\n",
       "       [5, 4, 2, 1, 5],\n",
       "       [8, 3, 2, 8, 3],\n",
       "       [3, 8, 8, 7, 3],\n",
       "       [1, 4, 1, 4, 8]])"
      ]
     },
     "execution_count": 57,
     "metadata": {},
     "output_type": "execute_result"
    }
   ],
   "source": [
    "arr"
   ]
  },
  {
   "cell_type": "code",
   "execution_count": 58,
   "id": "5d3a4e37",
   "metadata": {},
   "outputs": [
    {
     "data": {
      "text/plain": [
       "array([[1, 5, 8, 3, 1],\n",
       "       [9, 4, 3, 8, 4],\n",
       "       [8, 2, 2, 8, 1],\n",
       "       [5, 1, 8, 7, 4],\n",
       "       [4, 5, 3, 3, 8]])"
      ]
     },
     "execution_count": 58,
     "metadata": {},
     "output_type": "execute_result"
    }
   ],
   "source": [
    "arr.T"
   ]
  },
  {
   "cell_type": "markdown",
   "id": "2bf7286a",
   "metadata": {},
   "source": [
    "    Saturday ?\n",
    "    \n",
    "        OFF "
   ]
  },
  {
   "cell_type": "markdown",
   "id": "54894174",
   "metadata": {},
   "source": [
    "    10 AM"
   ]
  },
  {
   "cell_type": "markdown",
   "id": "4593e814",
   "metadata": {},
   "source": [
    "\n",
    "    Pandas\n",
    "\n",
    "    Matplotlib\n",
    "\n",
    "    ML"
   ]
  },
  {
   "cell_type": "code",
   "execution_count": null,
   "id": "81924a7a",
   "metadata": {},
   "outputs": [],
   "source": []
  }
 ],
 "metadata": {
  "kernelspec": {
   "display_name": "Python 3",
   "language": "python",
   "name": "python3"
  },
  "language_info": {
   "codemirror_mode": {
    "name": "ipython",
    "version": 3
   },
   "file_extension": ".py",
   "mimetype": "text/x-python",
   "name": "python",
   "nbconvert_exporter": "python",
   "pygments_lexer": "ipython3",
   "version": "3.8.8"
  }
 },
 "nbformat": 4,
 "nbformat_minor": 5
}
